{
 "cells": [
  {
   "cell_type": "code",
   "execution_count": 1,
   "metadata": {
    "collapsed": true
   },
   "outputs": [
    {
     "name": "stdout",
     "output_type": "stream",
     "text": [
      "Help on class Corpus in module LanguageModel.Corpus:\n",
      "\n",
      "class Corpus(builtins.object)\n",
      " |  Corpus(corpus=typing.Union[typing.List[typing.List[str]], NoneType], directory='Corpus/', verbose=False)\n",
      " |  \n",
      " |  List[List[str]] type class with static functionality to read data from the Malti dataset, xml files\n",
      " |  \n",
      " |  \n",
      " |  Each xml file is split in <text> tags, each <text> tag is split in <p> tags, each <p> is split in <s> tags and\n",
      " |  finally each new line is considered a word, tab separated in the following format:\n",
      " |  \n",
      " |          word, speech tag, lemma and morphological root.\n",
      " |  \n",
      " |  This class handles the reading and parsing of files as described above, and is intended to be used as a List[List[str]]\n",
      " |  with added functionality.\n",
      " |  \n",
      " |  Attributes\n",
      " |  ----------\n",
      " |  _corpus : List[List[str]]\n",
      " |      a list of sentences, each being a list of words\n",
      " |  \n",
      " |  Static Methods\n",
      " |  -------\n",
      " |  _ReadCorpus(root='Corpus/', verbose=False)\n",
      " |      This function checks the root location of where all xml files are contained and if it encounters no issue\n",
      " |      accessing it, it will read the contents of the files within it and return them in the form of a list.\n",
      " |  \n",
      " |  Methods defined here:\n",
      " |  \n",
      " |  __getitem__(self, index)\n",
      " |  \n",
      " |  __init__(self, corpus=typing.Union[typing.List[typing.List[str]], NoneType], directory='Corpus/', verbose=False)\n",
      " |      Initialize self.  See help(type(self)) for accurate signature.\n",
      " |  \n",
      " |  __iter__(self)\n",
      " |  \n",
      " |  __len__(self)\n",
      " |  \n",
      " |  ----------------------------------------------------------------------\n",
      " |  Static methods defined here:\n",
      " |  \n",
      " |  CorpusAsListOfSentences(root='Corpus/', verbose=False)\n",
      " |  \n",
      " |  filterFurther(word: str)\n",
      " |  \n",
      " |  ----------------------------------------------------------------------\n",
      " |  Data descriptors defined here:\n",
      " |  \n",
      " |  __dict__\n",
      " |      dictionary for instance variables (if defined)\n",
      " |  \n",
      " |  __weakref__\n",
      " |      list of weak references to the object (if defined)\n",
      "\n"
     ]
    }
   ],
   "source": [
    "from LanguageModel import LanguageModel, NGramModel, NGramCounts, Corpus\n",
    "help(Corpus)"
   ]
  },
  {
   "cell_type": "code",
   "execution_count": 2,
   "outputs": [
    {
     "data": {
      "text/plain": "Reading Files:   0%|          | 0/5 [00:00<?, ?it/s]",
      "application/vnd.jupyter.widget-view+json": {
       "version_major": 2,
       "version_minor": 0,
       "model_id": "282729703d2142d79cd538a5039da535"
      }
     },
     "metadata": {},
     "output_type": "display_data"
    },
    {
     "data": {
      "text/plain": "Parsing XML:   0%|          | 0/5 [00:00<?, ?it/s]",
      "application/vnd.jupyter.widget-view+json": {
       "version_major": 2,
       "version_minor": 0,
       "model_id": "f1c6db79d0e7452bab854e87fe6c3509"
      }
     },
     "metadata": {},
     "output_type": "display_data"
    },
    {
     "data": {
      "text/plain": "Building Sentences:   0%|          | 0/5 [00:00<?, ?it/s]",
      "application/vnd.jupyter.widget-view+json": {
       "version_major": 2,
       "version_minor": 0,
       "model_id": "2fc316b55c994f6e9e3acd5dd03ce2f1"
      }
     },
     "metadata": {},
     "output_type": "display_data"
    },
    {
     "data": {
      "text/plain": "Paragraph: 0it [00:00, ?it/s]",
      "application/vnd.jupyter.widget-view+json": {
       "version_major": 2,
       "version_minor": 0,
       "model_id": "fea0a3e3dd1647e0b9dc7a0642f81303"
      }
     },
     "metadata": {},
     "output_type": "display_data"
    },
    {
     "data": {
      "text/plain": "Paragraph: 0it [00:00, ?it/s]",
      "application/vnd.jupyter.widget-view+json": {
       "version_major": 2,
       "version_minor": 0,
       "model_id": "694091cb4f624c3280c8a01333597f24"
      }
     },
     "metadata": {},
     "output_type": "display_data"
    },
    {
     "data": {
      "text/plain": "Paragraph: 0it [00:00, ?it/s]",
      "application/vnd.jupyter.widget-view+json": {
       "version_major": 2,
       "version_minor": 0,
       "model_id": "182349f9beec4deca5cd31e0cace7688"
      }
     },
     "metadata": {},
     "output_type": "display_data"
    },
    {
     "data": {
      "text/plain": "Paragraph: 0it [00:00, ?it/s]",
      "application/vnd.jupyter.widget-view+json": {
       "version_major": 2,
       "version_minor": 0,
       "model_id": "c852014a508649f7a139774f70b3303b"
      }
     },
     "metadata": {},
     "output_type": "display_data"
    },
    {
     "data": {
      "text/plain": "Paragraph: 0it [00:00, ?it/s]",
      "application/vnd.jupyter.widget-view+json": {
       "version_major": 2,
       "version_minor": 0,
       "model_id": "6152c29bf60c447ca3677f19d503bfec"
      }
     },
     "metadata": {},
     "output_type": "display_data"
    },
    {
     "data": {
      "text/plain": "Counting x counts:   0%|          | 0/3408 [00:00<?, ?it/s]",
      "application/vnd.jupyter.widget-view+json": {
       "version_major": 2,
       "version_minor": 0,
       "model_id": "88d40036c3c1415b8166c52510b9665b"
      }
     },
     "metadata": {},
     "output_type": "display_data"
    },
    {
     "data": {
      "text/plain": "Calculating Probabilities:   0%|          | 0/8285 [00:00<?, ?it/s]",
      "application/vnd.jupyter.widget-view+json": {
       "version_major": 2,
       "version_minor": 0,
       "model_id": "f83778cae11f425a8a7a10b2121797df"
      }
     },
     "metadata": {},
     "output_type": "display_data"
    }
   ],
   "source": [
    "LM = LanguageModel(corpus=\"Corpus/\", verbose=True)"
   ],
   "metadata": {
    "collapsed": false,
    "pycharm": {
     "name": "#%%\n"
    }
   }
  },
  {
   "cell_type": "code",
   "execution_count": 3,
   "outputs": [
    {
     "data": {
      "text/plain": "Counting x counts:   0%|          | 0/3408 [00:00<?, ?it/s]",
      "application/vnd.jupyter.widget-view+json": {
       "version_major": 2,
       "version_minor": 0,
       "model_id": "59a6dcd8b9a14cdba1aced8ea855f4a8"
      }
     },
     "metadata": {},
     "output_type": "display_data"
    },
    {
     "data": {
      "text/plain": "Counting x counts:   0%|          | 0/3408 [00:00<?, ?it/s]",
      "application/vnd.jupyter.widget-view+json": {
       "version_major": 2,
       "version_minor": 0,
       "model_id": "e50c5a36b83b4d5589a74b0a96d84307"
      }
     },
     "metadata": {},
     "output_type": "display_data"
    },
    {
     "data": {
      "text/plain": "Calculating Probabilities:   0%|          | 0/53759 [00:00<?, ?it/s]",
      "application/vnd.jupyter.widget-view+json": {
       "version_major": 2,
       "version_minor": 0,
       "model_id": "287353c645fc440c9dcf1048e77a9769"
      }
     },
     "metadata": {},
     "output_type": "display_data"
    },
    {
     "data": {
      "text/plain": "Calculating Perplexity: 0it [00:00, ?it/s]",
      "application/vnd.jupyter.widget-view+json": {
       "version_major": 2,
       "version_minor": 0,
       "model_id": "48cb2a2461e14052994a4c68749fee27"
      }
     },
     "metadata": {},
     "output_type": "display_data"
    },
    {
     "data": {
      "text/plain": "mpf('1.8419493042233952')"
     },
     "execution_count": 3,
     "metadata": {},
     "output_type": "execute_result"
    }
   ],
   "source": [
    "LM.Perplexity(n=3, verbose=True)"
   ],
   "metadata": {
    "collapsed": false,
    "pycharm": {
     "name": "#%%\n"
    }
   }
  },
  {
   "cell_type": "code",
   "execution_count": 8,
   "outputs": [
    {
     "name": "stdout",
     "output_type": "stream",
     "text": [
      "l nitkellem l kv kontra il qegħdin kredibilita li billi l jara tad hija jippreżenta l ta jirriforma pajjiż ma cassar meta kont george qiegħed .\n"
     ]
    }
   ],
   "source": [
    "generated = LM.GenerateSentence(n=1, verbose=True)\n",
    "for w in generated:\n",
    "    print(w, end=' ')\n",
    "\n",
    "print(\".\")"
   ],
   "metadata": {
    "collapsed": false,
    "pycharm": {
     "name": "#%%\n"
    }
   }
  },
  {
   "cell_type": "code",
   "execution_count": 9,
   "outputs": [
    {
     "name": "stdout",
     "output_type": "stream",
     "text": [
      "9505 .\n"
     ]
    }
   ],
   "source": [
    "generated = LM.GenerateSentence(verbose=True)\n",
    "for w in generated:\n",
    "    print(w, end=' ')\n",
    "\n",
    "print(\".\")"
   ],
   "metadata": {
    "collapsed": false,
    "pycharm": {
     "name": "#%%\n"
    }
   }
  },
  {
   "cell_type": "code",
   "execution_count": 12,
   "outputs": [
    {
     "name": "stdout",
     "output_type": "stream",
     "text": [
      "the deputy speaker onor helen d deċiżjoni li malta hija readable mill ogħla rati tas sisa fuq tabakk fosthom is surveys f tabelli 53 sa 57 .\n"
     ]
    }
   ],
   "source": [
    "generated = LM.GenerateSentence(n=3, verbose=True)\n",
    "for w in generated:\n",
    "    print(w, end=' ')\n",
    "\n",
    "print(\".\")"
   ],
   "metadata": {
    "collapsed": false,
    "pycharm": {
     "name": "#%%\n"
    }
   }
  },
  {
   "cell_type": "code",
   "execution_count": 15,
   "outputs": [
    {
     "name": "stdout",
     "output_type": "stream",
     "text": [
      "interruzzjonijiet allura għalfejn noqogħdu ndaħħlu dawn jinbidlu fl ahjar interess tas servizz ġdid għal 25 ta lulju 2006 ġew konfermati .\n"
     ]
    }
   ],
   "source": [
    "generated = LM.GenerateSentence(n=4, verbose=True)\n",
    "for w in generated:\n",
    "    print(w, end=' ')\n",
    "\n",
    "print(\".\")"
   ],
   "metadata": {
    "collapsed": false,
    "pycharm": {
     "name": "#%%\n"
    }
   }
  }
 ],
 "metadata": {
  "kernelspec": {
   "display_name": "Python 3",
   "language": "python",
   "name": "python3"
  },
  "language_info": {
   "codemirror_mode": {
    "name": "ipython",
    "version": 2
   },
   "file_extension": ".py",
   "mimetype": "text/x-python",
   "name": "python",
   "nbconvert_exporter": "python",
   "pygments_lexer": "ipython2",
   "version": "2.7.6"
  }
 },
 "nbformat": 4,
 "nbformat_minor": 0
}