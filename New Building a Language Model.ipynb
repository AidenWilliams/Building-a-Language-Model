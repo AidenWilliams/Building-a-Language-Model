{
 "cells": [
  {
   "cell_type": "code",
   "execution_count": 2,
   "metadata": {
    "collapsed": true
   },
   "outputs": [
    {
     "name": "stdout",
     "output_type": "stream",
     "text": [
      "Help on class NGramModel in module LanguageModel.NGramModel:\n",
      "\n",
      "class NGramModel(builtins.object)\n",
      " |  NGramModel(lm: <module 'LanguageModel' from 'C:\\\\Users\\\\Aiden Williams\\\\PycharmProjects\\\\NLP\\\\LanguageModel\\\\__init__.py'>, testProbabilities=None, n=2, model='vanilla', verbose=False)\n",
      " |  \n",
      " |  The NGramModel class represent a N-Gram probability model of the Language Model.\n",
      " |  \n",
      " |  The object can be identified for any n > 0 and any of the 3 models: \"vanilla\"/\"laplace\"/\"unk\".\n",
      " |  \n",
      " |  Attributes\n",
      " |  ----------\n",
      " |  identifier :  tuple([int, str])\n",
      " |      a tuple of the n and model of the NGramCounts.\n",
      " |  N : int\n",
      " |      a int number of the number of words in the provided LanguageModel corpus.\n",
      " |  _probabilities :  {tuple([str]*n): probability}\n",
      " |      a dict containing n sized sequences in the form of a tuple with their percentage share in the provided\n",
      " |      LanguageModel corpus.\n",
      " |  \n",
      " |  Methods defined here:\n",
      " |  \n",
      " |  __getitem__(self, item)\n",
      " |      Returns\n",
      " |      -------\n",
      " |      item in _probabilities at index\n",
      " |  \n",
      " |  __init__(self, lm: <module 'LanguageModel' from 'C:\\\\Users\\\\Aiden Williams\\\\PycharmProjects\\\\NLP\\\\LanguageModel\\\\__init__.py'>, testProbabilities=None, n=2, model='vanilla', verbose=False)\n",
      " |      Initialises the NGramModel from corpus given the identifier combo and a LanguageModel. The NGramModel can\n",
      " |      also be 'copy' constructed from a dict {tuple([str]*n): probability}.\n",
      " |      \n",
      " |      The process of probability calculation is done in detail via in line comments.\n",
      " |      \n",
      " |      Raises\n",
      " |      ------\n",
      " |      ValueError\n",
      " |          If the model inputted is not \"vanilla\"/\"laplace\"/\"unk\"\n",
      " |          or\n",
      " |          If n is smaller than 1\n",
      " |  \n",
      " |  __iter__(self)\n",
      " |      Gives functionality to iterate over _probabilities\n",
      " |  \n",
      " |  __repr__(self)\n",
      " |      Allows the representation of NGramModel as the _probabilities dict\n",
      " |      \n",
      " |      Returns\n",
      " |      -------\n",
      " |      _probabilities\n",
      " |  \n",
      " |  values(self)\n",
      " |      Returns\n",
      " |      -------\n",
      " |      _probabilities' values\n",
      " |  \n",
      " |  ----------------------------------------------------------------------\n",
      " |  Data descriptors defined here:\n",
      " |  \n",
      " |  __dict__\n",
      " |      dictionary for instance variables (if defined)\n",
      " |  \n",
      " |  __weakref__\n",
      " |      list of weak references to the object (if defined)\n",
      "\n"
     ]
    }
   ],
   "source": [
    "from LanguageModel import LanguageModel, NGramModel, NGramCounts, Corpus\n",
    "help(NGramModel)"
   ]
  },
  {
   "cell_type": "code",
   "execution_count": 2,
   "outputs": [
    {
     "data": {
      "text/plain": "Reading Files:   0%|          | 0/5 [00:00<?, ?it/s]",
      "application/vnd.jupyter.widget-view+json": {
       "version_major": 2,
       "version_minor": 0,
       "model_id": "5fa6a454d57f44d1b91cd9a251c552aa"
      }
     },
     "metadata": {},
     "output_type": "display_data"
    },
    {
     "data": {
      "text/plain": "Parsing XML:   0%|          | 0/5 [00:00<?, ?it/s]",
      "application/vnd.jupyter.widget-view+json": {
       "version_major": 2,
       "version_minor": 0,
       "model_id": "ff93f82f7b654984bc9f9a4e9296dc97"
      }
     },
     "metadata": {},
     "output_type": "display_data"
    },
    {
     "ename": "KeyboardInterrupt",
     "evalue": "",
     "output_type": "error",
     "traceback": [
      "\u001B[1;31m---------------------------------------------------------------------------\u001B[0m",
      "\u001B[1;31mKeyboardInterrupt\u001B[0m                         Traceback (most recent call last)",
      "\u001B[1;32m<ipython-input-2-317b1d2e7e69>\u001B[0m in \u001B[0;36m<module>\u001B[1;34m\u001B[0m\n\u001B[1;32m----> 1\u001B[1;33m \u001B[0mLM\u001B[0m \u001B[1;33m=\u001B[0m \u001B[0mLanguageModel\u001B[0m\u001B[1;33m(\u001B[0m\u001B[0mcorpus\u001B[0m\u001B[1;33m=\u001B[0m\u001B[1;34m\"Corpus/\"\u001B[0m\u001B[1;33m,\u001B[0m \u001B[0mverbose\u001B[0m\u001B[1;33m=\u001B[0m\u001B[1;32mTrue\u001B[0m\u001B[1;33m)\u001B[0m\u001B[1;33m\u001B[0m\u001B[1;33m\u001B[0m\u001B[0m\n\u001B[0m\u001B[0;32m      2\u001B[0m \u001B[1;33m\u001B[0m\u001B[0m\n",
      "\u001B[1;32m~\\PycharmProjects\\NLP\\LanguageModel\\__init__.py\u001B[0m in \u001B[0;36m__init__\u001B[1;34m(self, corpus, ngram, model, verbose)\u001B[0m\n\u001B[0;32m     16\u001B[0m         \u001B[1;31m# Get corpus\u001B[0m\u001B[1;33m\u001B[0m\u001B[1;33m\u001B[0m\u001B[1;33m\u001B[0m\u001B[0m\n\u001B[0;32m     17\u001B[0m         \u001B[1;32mif\u001B[0m \u001B[0misinstance\u001B[0m\u001B[1;33m(\u001B[0m\u001B[0mcorpus\u001B[0m\u001B[1;33m,\u001B[0m \u001B[0mstr\u001B[0m\u001B[1;33m)\u001B[0m\u001B[1;33m:\u001B[0m\u001B[1;33m\u001B[0m\u001B[1;33m\u001B[0m\u001B[0m\n\u001B[1;32m---> 18\u001B[1;33m             \u001B[0mself\u001B[0m\u001B[1;33m.\u001B[0m\u001B[0mcorpus\u001B[0m \u001B[1;33m=\u001B[0m \u001B[0mCorpus\u001B[0m\u001B[1;33m.\u001B[0m\u001B[0mCorpusAsListOfSentences\u001B[0m\u001B[1;33m(\u001B[0m\u001B[0mcorpus\u001B[0m\u001B[1;33m,\u001B[0m \u001B[0mverbose\u001B[0m\u001B[1;33m)\u001B[0m\u001B[1;33m\u001B[0m\u001B[1;33m\u001B[0m\u001B[0m\n\u001B[0m\u001B[0;32m     19\u001B[0m         \u001B[1;32melse\u001B[0m\u001B[1;33m:\u001B[0m\u001B[1;33m\u001B[0m\u001B[1;33m\u001B[0m\u001B[0m\n\u001B[0;32m     20\u001B[0m             \u001B[0mself\u001B[0m\u001B[1;33m.\u001B[0m\u001B[0mcorpus\u001B[0m \u001B[1;33m=\u001B[0m \u001B[0mcorpus\u001B[0m\u001B[1;33m\u001B[0m\u001B[1;33m\u001B[0m\u001B[0m\n",
      "\u001B[1;32m~\\PycharmProjects\\NLP\\LanguageModel\\Corpus.py\u001B[0m in \u001B[0;36mCorpusAsListOfSentences\u001B[1;34m(root, verbose)\u001B[0m\n\u001B[0;32m    127\u001B[0m         \u001B[0mA\u001B[0m \u001B[0mcorpus\u001B[0m\u001B[1;33m,\u001B[0m \u001B[0mread\u001B[0m \u001B[1;32mfrom\u001B[0m \u001B[0mroot\u001B[0m \u001B[1;32min\u001B[0m \u001B[0mList\u001B[0m\u001B[1;33m[\u001B[0m\u001B[0mList\u001B[0m\u001B[1;33m[\u001B[0m\u001B[0mstr\u001B[0m\u001B[1;33m]\u001B[0m\u001B[1;33m]\u001B[0m \u001B[0mformat\u001B[0m\u001B[1;33m\u001B[0m\u001B[1;33m\u001B[0m\u001B[0m\n\u001B[0;32m    128\u001B[0m         \"\"\"\n\u001B[1;32m--> 129\u001B[1;33m         \u001B[0mroots\u001B[0m \u001B[1;33m=\u001B[0m \u001B[0mCorpus\u001B[0m\u001B[1;33m.\u001B[0m\u001B[0m_ParseAsXML\u001B[0m\u001B[1;33m(\u001B[0m\u001B[0mroot\u001B[0m\u001B[1;33m,\u001B[0m \u001B[0mverbose\u001B[0m\u001B[1;33m)\u001B[0m\u001B[1;33m\u001B[0m\u001B[1;33m\u001B[0m\u001B[0m\n\u001B[0m\u001B[0;32m    130\u001B[0m         \u001B[0msentences\u001B[0m \u001B[1;33m=\u001B[0m \u001B[1;33m[\u001B[0m\u001B[1;33m]\u001B[0m\u001B[1;33m\u001B[0m\u001B[1;33m\u001B[0m\u001B[0m\n\u001B[0;32m    131\u001B[0m         \u001B[1;32mfor\u001B[0m \u001B[0mroot\u001B[0m \u001B[1;32min\u001B[0m \u001B[0mtqdm\u001B[0m\u001B[1;33m(\u001B[0m\u001B[0mroots\u001B[0m\u001B[1;33m,\u001B[0m \u001B[0mdesc\u001B[0m\u001B[1;33m=\u001B[0m\u001B[1;34m'Building Sentences'\u001B[0m\u001B[1;33m,\u001B[0m \u001B[0mdisable\u001B[0m\u001B[1;33m=\u001B[0m\u001B[1;32mnot\u001B[0m \u001B[0mverbose\u001B[0m\u001B[1;33m)\u001B[0m\u001B[1;33m:\u001B[0m\u001B[1;33m\u001B[0m\u001B[1;33m\u001B[0m\u001B[0m\n",
      "\u001B[1;32m~\\PycharmProjects\\NLP\\LanguageModel\\Corpus.py\u001B[0m in \u001B[0;36m_ParseAsXML\u001B[1;34m(root, verbose)\u001B[0m\n\u001B[0;32m     89\u001B[0m         \u001B[0mxml_data\u001B[0m \u001B[1;33m=\u001B[0m \u001B[0mCorpus\u001B[0m\u001B[1;33m.\u001B[0m\u001B[0m_ReadCorpus\u001B[0m\u001B[1;33m(\u001B[0m\u001B[0mroot\u001B[0m\u001B[1;33m,\u001B[0m \u001B[0mverbose\u001B[0m\u001B[1;33m)\u001B[0m\u001B[1;33m\u001B[0m\u001B[1;33m\u001B[0m\u001B[0m\n\u001B[0;32m     90\u001B[0m         \u001B[1;32mfor\u001B[0m \u001B[0mxml\u001B[0m \u001B[1;32min\u001B[0m \u001B[0mtqdm\u001B[0m\u001B[1;33m(\u001B[0m\u001B[0mxml_data\u001B[0m\u001B[1;33m,\u001B[0m \u001B[0mdesc\u001B[0m\u001B[1;33m=\u001B[0m\u001B[1;34m'Parsing XML'\u001B[0m\u001B[1;33m,\u001B[0m \u001B[0mdisable\u001B[0m\u001B[1;33m=\u001B[0m\u001B[1;32mnot\u001B[0m \u001B[0mverbose\u001B[0m\u001B[1;33m)\u001B[0m\u001B[1;33m:\u001B[0m\u001B[1;33m\u001B[0m\u001B[1;33m\u001B[0m\u001B[0m\n\u001B[1;32m---> 91\u001B[1;33m             \u001B[0mroots\u001B[0m\u001B[1;33m.\u001B[0m\u001B[0mappend\u001B[0m\u001B[1;33m(\u001B[0m\u001B[0metree\u001B[0m\u001B[1;33m.\u001B[0m\u001B[0mfromstring\u001B[0m\u001B[1;33m(\u001B[0m\u001B[0mxml\u001B[0m\u001B[1;33m,\u001B[0m \u001B[0mparser\u001B[0m\u001B[1;33m=\u001B[0m\u001B[0mparser\u001B[0m\u001B[1;33m)\u001B[0m\u001B[1;33m)\u001B[0m\u001B[1;33m\u001B[0m\u001B[1;33m\u001B[0m\u001B[0m\n\u001B[0m\u001B[0;32m     92\u001B[0m         \u001B[1;32mreturn\u001B[0m \u001B[0mroots\u001B[0m\u001B[1;33m\u001B[0m\u001B[1;33m\u001B[0m\u001B[0m\n\u001B[0;32m     93\u001B[0m \u001B[1;33m\u001B[0m\u001B[0m\n",
      "\u001B[1;31mKeyboardInterrupt\u001B[0m: "
     ]
    }
   ],
   "source": [
    "LM = LanguageModel(corpus=\"Corpus/\", verbose=True)"
   ],
   "metadata": {
    "collapsed": false,
    "pycharm": {
     "name": "#%%\n"
    }
   }
  },
  {
   "cell_type": "code",
   "execution_count": null,
   "outputs": [],
   "source": [
    "LM.Perplexity(n=3, verbose=True)"
   ],
   "metadata": {
    "collapsed": false,
    "pycharm": {
     "name": "#%%\n"
    }
   }
  },
  {
   "cell_type": "code",
   "execution_count": null,
   "outputs": [],
   "source": [
    "generated = LM.GenerateSentence(n=1, verbose=True)\n",
    "for w in generated:\n",
    "    print(w, end=' ')\n",
    "\n",
    "print(\".\")"
   ],
   "metadata": {
    "collapsed": false,
    "pycharm": {
     "name": "#%%\n",
     "is_executing": true
    }
   }
  },
  {
   "cell_type": "code",
   "execution_count": null,
   "outputs": [],
   "source": [
    "generated = LM.GenerateSentence(verbose=True)\n",
    "for w in generated:\n",
    "    print(w, end=' ')\n",
    "\n",
    "print(\".\")"
   ],
   "metadata": {
    "collapsed": false,
    "pycharm": {
     "name": "#%%\n",
     "is_executing": true
    }
   }
  },
  {
   "cell_type": "code",
   "execution_count": null,
   "outputs": [],
   "source": [
    "generated = LM.GenerateSentence(n=3, verbose=True)\n",
    "for w in generated:\n",
    "    print(w, end=' ')\n",
    "\n",
    "print(\".\")"
   ],
   "metadata": {
    "collapsed": false,
    "pycharm": {
     "name": "#%%\n",
     "is_executing": true
    }
   }
  },
  {
   "cell_type": "code",
   "execution_count": null,
   "outputs": [],
   "source": [
    "generated = LM.GenerateSentence(n=4, verbose=True)\n",
    "for w in generated:\n",
    "    print(w, end=' ')\n",
    "\n",
    "print(\".\")"
   ],
   "metadata": {
    "collapsed": false,
    "pycharm": {
     "name": "#%%\n",
     "is_executing": true
    }
   }
  },
  {
   "cell_type": "code",
   "execution_count": null,
   "outputs": [],
   "source": [
    "x = tuple(['x', 'y', 'z'])\n",
    "x[:3-1]"
   ],
   "metadata": {
    "collapsed": false,
    "pycharm": {
     "name": "#%%\n",
     "is_executing": true
    }
   }
  }
 ],
 "metadata": {
  "kernelspec": {
   "display_name": "Python 3",
   "language": "python",
   "name": "python3"
  },
  "language_info": {
   "codemirror_mode": {
    "name": "ipython",
    "version": 2
   },
   "file_extension": ".py",
   "mimetype": "text/x-python",
   "name": "python",
   "nbconvert_exporter": "python",
   "pygments_lexer": "ipython2",
   "version": "2.7.6"
  }
 },
 "nbformat": 4,
 "nbformat_minor": 0
}