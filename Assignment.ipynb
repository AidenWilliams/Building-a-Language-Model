{
 "cells": [
  {
   "cell_type": "code",
   "execution_count": 1,
   "metadata": {},
   "outputs": [],
   "source": [
    "from lxml import etree\n",
    "import re\n",
    "from tqdm.notebook import tqdm\n",
    "import torch\n",
    "from torch import nn"
   ]
  },
  {
   "cell_type": "code",
   "execution_count": 2,
   "metadata": {
    "pycharm": {
     "name": "#%%\n"
    }
   },
   "outputs": [],
   "source": [
    "# Create functions to free memory once function scope is left\n",
    "def _readCorpus(corpus=\"Corpus/\", files=None ):\n",
    "    if files is None:\n",
    "        files = [\"malti03.parl.1.txt\",\n",
    "                 \"malti03.parl.2.txt\",\n",
    "                 \"malti03.parl.3.txt\",\n",
    "                 \"malti03.parl.4.txt\",\n",
    "                 \"malti03.parl.5.txt\"]\n",
    "    xml_data = []\n",
    "    for file in tqdm(files, desc='Reading Files'):\n",
    "        xml_data.append(open(corpus+file, 'r', encoding='utf8').read())  # Read file\n",
    "    return xml_data"
   ]
  },
  {
   "cell_type": "code",
   "execution_count": 3,
   "metadata": {
    "pycharm": {
     "name": "#%%\n"
    }
   },
   "outputs": [],
   "source": [
    "def _ParseAsXML():\n",
    "    parser = etree.XMLParser(recover=True)\n",
    "    roots = []\n",
    "    xml_data = _readCorpus()\n",
    "    for xml in tqdm(xml_data, desc='Parsing XML'):\n",
    "        roots.append(etree.fromstring(xml, parser=parser))\n",
    "    return roots"
   ]
  },
  {
   "cell_type": "code",
   "execution_count": 4,
   "metadata": {
    "pycharm": {
     "name": "#%%\n"
    }
   },
   "outputs": [],
   "source": [
    "# Define a word class with some functionality\n",
    "class Word:\n",
    "    def __init__(self, kelma, tip, mamma, gherq):\n",
    "        self.kelma = kelma\n",
    "        self.tip = tip\n",
    "        self.mamma = mamma\n",
    "        self.gherq = gherq\n",
    "\n",
    "    def __str__(self):\n",
    "        return  'Kelma: ' + self.kelma + '\\n' + \\\n",
    "                'tip: ' + self.tip + '\\n' + \\\n",
    "                'mamma: ' + self.mamma + '\\n' + \\\n",
    "                'gherq: ' + self.gherq\n",
    "\n",
    "    def __repr__(self):\n",
    "        return self.__str__()\n",
    "\n",
    "    def __iter__(self):\n",
    "        for each in self.__dict__.values():\n",
    "            yield each\n",
    "\n",
    "    def __getitem__(self, index):\n",
    "        if index < 4:\n",
    "            return list(self.__dict__.values())[index]\n",
    "        else:\n",
    "            raise IndexError('Max index is 3')\n",
    "\n",
    "    def __eq__(self, word):\n",
    "        return  self.kelma == word.kelma and \\\n",
    "                self.tip == word.tip and \\\n",
    "                self.mamma == word.mamma and \\\n",
    "                self.gherq == word.gherq\n",
    "\n",
    "    def __ne__(self, word):\n",
    "        return not self == word\n",
    "\n",
    "    def __hash__(self):\n",
    "        return hash((self.kelma, self.tip, self.mamma, self.gherq))"
   ]
  },
  {
   "cell_type": "code",
   "execution_count": 5,
   "metadata": {
    "pycharm": {
     "name": "#%%\n"
    }
   },
   "outputs": [],
   "source": [
    "# Define Sentence class with some functionality\n",
    "class Sentence:\n",
    "    def __init__(self, words=None):\n",
    "        if words is None:\n",
    "            words = []\n",
    "        self.words = words\n",
    "\n",
    "    def __str__(self):\n",
    "        s = ''\n",
    "        for word in self.words:\n",
    "            s += word.kelma + \" \"\n",
    "        return s\n",
    "\n",
    "    def __repr__(self):\n",
    "        return self.__str__()\n",
    "\n",
    "    def __iter__(self):\n",
    "        for word in self.words:\n",
    "            yield word\n",
    "\n",
    "    def __getitem__(self, index):\n",
    "        return self.words[index]\n",
    "\n",
    "    def append(self, word: Word):\n",
    "        self.words.append(word)\n",
    "\n",
    "    def insert(self,index, word: Word):\n",
    "        self.words.insert(index, word)\n",
    "\n",
    "    def __eq__(self, sentence):\n",
    "        for w1, w2 in self, sentence:\n",
    "            if w1 != w2:\n",
    "                return False\n",
    "        return True\n",
    "\n",
    "    def __ne__(self, sentence):\n",
    "        return not self != sentence\n",
    "\n",
    "    def __len__(self):\n",
    "        return len(self.words)"
   ]
  },
  {
   "cell_type": "code",
   "execution_count": 6,
   "metadata": {
    "pycharm": {
     "name": "#%%\n"
    }
   },
   "outputs": [],
   "source": [
    "# Mention garbage collection effort and try outs for pd and numpy and why i settled with list of lists (pd matrix, list of lists no)\n",
    "def CorpusAsListOfLists():\n",
    "    roots = _ParseAsXML()\n",
    "    sentences = []\n",
    "    for root in tqdm(roots, desc='XML File'):\n",
    "        for i, p in tqdm(enumerate(root), desc='Paragraph'):\n",
    "            for k, s in enumerate(p):\n",
    "                unfiltered_sentence = re.split(r'\\n', s.text.lstrip('\\n'))\n",
    "                sentence = Sentence()\n",
    "                for unfiltered_word in unfiltered_sentence:\n",
    "                    if unfiltered_word is not \"\":\n",
    "                        filtered_word = unfiltered_word.split('\\t')\n",
    "                        sentence.append(Word(   filtered_word[0],\n",
    "                                                filtered_word[1],\n",
    "                                                filtered_word[2],\n",
    "                                                filtered_word[3]))\n",
    "                if sentence is not []:\n",
    "                    sentence.insert(0, Word(\"<s>\", \"Bidu\", \"null\", \"null\"))\n",
    "                    sentence.append( Word(\"</s>\", \"Tmiem\", \"null\", \"null\"))\n",
    "                    sentences.append(sentence)\n",
    "    return sentences"
   ]
  },
  {
   "cell_type": "code",
   "execution_count": 8,
   "metadata": {
    "pycharm": {
     "name": "#%%\n"
    }
   },
   "outputs": [],
   "source": [
    "def _EncodeWords(corpus):\n",
    "    return {w.__hash__():w for s in corpus for w in s}\n",
    "\n",
    "def SequenceFrequency(corpus, n=2, limit=None, til=True):\n",
    "    # remove sentences in corpus with length < n\n",
    "    local_corpus = [s for s in corpus if len(s.words) >= n]\n",
    "\n",
    "    if limit is None and til is not True:\n",
    "        raise Exception(\"Cannot access index: None\")\n",
    "    elif limit is None and til is True:\n",
    "        limit = len(local_corpus)\n",
    "    elif limit is not None and til is True:\n",
    "        local_corpus = local_corpus[:(limit+1)]\n",
    "    elif limit is not None and til is not True:\n",
    "        local_corpus = [local_corpus[limit]]\n",
    "\n",
    "    encoded_words = _EncodeWords(local_corpus)\n",
    "\n",
    "    # Start by getting frequency of (n - 1) sized sequence is first sequence in a given sentence\n",
    "    model = {}\n",
    "    for sentence_index in range(len(local_corpus)):\n",
    "        if (sentence_index + n) % n != 0:\n",
    "            continue\n",
    "\n",
    "\n",
    "\n",
    "def ngram(corpus, n=2, limit=None, til=True):\n",
    "    # remove sentences in corpus with length < n\n",
    "    local_corpus = [s for s in corpus if len(s.words) >= n]\n",
    "\n",
    "    if limit is None and til is not True:\n",
    "        raise Exception(\"Cannot access index: None\")\n",
    "    elif limit is None and til is True:\n",
    "        limit = len(local_corpus)\n",
    "    elif limit is not None and til is True:\n",
    "        local_corpus = local_corpus[:(limit+1)]\n",
    "    elif limit is not None and til is not True:\n",
    "        local_corpus = [local_corpus[limit]]\n",
    "\n",
    "    print(local_corpus)\n",
    "\n",
    "# sen = Sentence([Word(\"lewwel\", \"2\", \"3\", \"4\"), Word(\"Tieni\", \"2\", \"3\", \"4\"), Word(\"Tielet\", \"2\", \"3\", \"4\"), Word(\"Raba\", \"2\", \"3\", \"4\")])\n",
    "# sen2 = Sentence([Word(\"Hames\", \"2\", \"3\", \"4\"), Word(\"Sitt\", \"2\", \"3\", \"4\"), Word(\"Tielet\", \"2\", \"3\", \"4\"), Word(\"Seba\", \"2\", \"3\", \"4\")])\n",
    "# test = [sen, sen2]\n",
    "# #print(sen[2] == sen2[2] )\n",
    "# print(SequenceFrequency(test))\n",
    "# # print(test)"
   ]
  },
  {
   "cell_type": "code",
   "execution_count": 9,
   "metadata": {
    "pycharm": {
     "name": "#%%\n"
    }
   },
   "outputs": [
    {
     "name": "stdout",
     "output_type": "stream",
     "text": [
      "True\n",
      "tensor([[ 0.8028,  1.3280,  0.7041],\n",
      "        [-0.4863, -0.4136, -0.1424]])\n",
      "tensor([[ 0.8028,  1.3280,  0.7041],\n",
      "        [-0.4863, -0.4136, -0.1424]], device='cuda:0')\n",
      "1\n"
     ]
    }
   ],
   "source": [
    "print(torch.cuda.is_available())"
   ]
  },
  {
   "cell_type": "code",
   "execution_count": 10,
   "outputs": [
    {
     "data": {
      "text/plain": "Reading Files:   0%|          | 0/5 [00:00<?, ?it/s]",
      "application/vnd.jupyter.widget-view+json": {
       "version_major": 2,
       "version_minor": 0,
       "model_id": "2571e886b77d47869af6cf81f99e4c6d"
      }
     },
     "metadata": {},
     "output_type": "display_data"
    },
    {
     "data": {
      "text/plain": "Parsing XML:   0%|          | 0/5 [00:00<?, ?it/s]",
      "application/vnd.jupyter.widget-view+json": {
       "version_major": 2,
       "version_minor": 0,
       "model_id": "59968017459a4eebabf5006583554c68"
      }
     },
     "metadata": {},
     "output_type": "display_data"
    },
    {
     "data": {
      "text/plain": "XML File:   0%|          | 0/5 [00:00<?, ?it/s]",
      "application/vnd.jupyter.widget-view+json": {
       "version_major": 2,
       "version_minor": 0,
       "model_id": "ab837b0000d14fa2b5d8570ed75f2757"
      }
     },
     "metadata": {},
     "output_type": "display_data"
    },
    {
     "data": {
      "text/plain": "Paragraph: 0it [00:00, ?it/s]",
      "application/vnd.jupyter.widget-view+json": {
       "version_major": 2,
       "version_minor": 0,
       "model_id": "6779cf7558f346a4bd871c631689163c"
      }
     },
     "metadata": {},
     "output_type": "display_data"
    },
    {
     "data": {
      "text/plain": "Paragraph: 0it [00:00, ?it/s]",
      "application/vnd.jupyter.widget-view+json": {
       "version_major": 2,
       "version_minor": 0,
       "model_id": "e8d815f2f88f4f648a389a71194a864c"
      }
     },
     "metadata": {},
     "output_type": "display_data"
    },
    {
     "data": {
      "text/plain": "Paragraph: 0it [00:00, ?it/s]",
      "application/vnd.jupyter.widget-view+json": {
       "version_major": 2,
       "version_minor": 0,
       "model_id": "a2a3f3a0a3414c3b8c7d8546aa9c40d1"
      }
     },
     "metadata": {},
     "output_type": "display_data"
    },
    {
     "data": {
      "text/plain": "Paragraph: 0it [00:00, ?it/s]",
      "application/vnd.jupyter.widget-view+json": {
       "version_major": 2,
       "version_minor": 0,
       "model_id": "2c473c5d85f64e369839f0311fee2350"
      }
     },
     "metadata": {},
     "output_type": "display_data"
    },
    {
     "data": {
      "text/plain": "Paragraph: 0it [00:00, ?it/s]",
      "application/vnd.jupyter.widget-view+json": {
       "version_major": 2,
       "version_minor": 0,
       "model_id": "b2a2bb2a13a8456a9236d50ee9ca8820"
      }
     },
     "metadata": {},
     "output_type": "display_data"
    }
   ],
   "source": [
    "corp = CorpusAsListOfLists()\n",
    "rows = len(corp)\n",
    "print(rows)\n",
    "cols = 0\n",
    "for sentence in corp:\n",
    "    if len(sentence) > cols:\n",
    "        cols = len(sentence)\n",
    "print(cols)\n",
    "\n",
    "# shape of tensore will be these two values"
   ],
   "metadata": {
    "collapsed": false,
    "pycharm": {
     "name": "#%%\n"
    }
   }
  },
  {
   "cell_type": "code",
   "execution_count": 15,
   "outputs": [
    {
     "ename": "ValueError",
     "evalue": "expected sequence of length 4 at dim 1 (got 3)",
     "output_type": "error",
     "traceback": [
      "\u001B[1;31m---------------------------------------------------------------------------\u001B[0m",
      "\u001B[1;31mValueError\u001B[0m                                Traceback (most recent call last)",
      "\u001B[1;32m<ipython-input-15-2ebe567fc9ba>\u001B[0m in \u001B[0;36m<module>\u001B[1;34m\u001B[0m\n\u001B[0;32m      3\u001B[0m         [9,10,11,12],]\n\u001B[0;32m      4\u001B[0m \u001B[1;33m\u001B[0m\u001B[0m\n\u001B[1;32m----> 5\u001B[1;33m \u001B[0mtesting\u001B[0m \u001B[1;33m=\u001B[0m \u001B[0mtorch\u001B[0m\u001B[1;33m.\u001B[0m\u001B[0mtensor\u001B[0m\u001B[1;33m(\u001B[0m\u001B[0mtest\u001B[0m\u001B[1;33m)\u001B[0m\u001B[1;33m\u001B[0m\u001B[1;33m\u001B[0m\u001B[0m\n\u001B[0m\u001B[0;32m      6\u001B[0m \u001B[0mprint\u001B[0m\u001B[1;33m(\u001B[0m\u001B[0mtesting\u001B[0m\u001B[1;33m)\u001B[0m\u001B[1;33m\u001B[0m\u001B[1;33m\u001B[0m\u001B[0m\n\u001B[0;32m      7\u001B[0m \u001B[0mprint\u001B[0m\u001B[1;33m(\u001B[0m\u001B[0mtesting\u001B[0m\u001B[1;33m.\u001B[0m\u001B[0msize\u001B[0m\u001B[1;33m(\u001B[0m\u001B[1;33m)\u001B[0m\u001B[1;33m)\u001B[0m\u001B[1;33m\u001B[0m\u001B[1;33m\u001B[0m\u001B[0m\n",
      "\u001B[1;31mValueError\u001B[0m: expected sequence of length 4 at dim 1 (got 3)"
     ]
    }
   ],
   "source": [
    "test = [[1,2,3,4],\n",
    "        [5,6,7,8],\n",
    "        [9,10,11,12],]\n",
    "\n",
    "testing = torch.tensor(test)\n",
    "print(testing)\n",
    "print(testing.size())"
   ],
   "metadata": {
    "collapsed": false,
    "pycharm": {
     "name": "#%%\n"
    }
   }
  },
  {
   "cell_type": "code",
   "execution_count": 14,
   "outputs": [],
   "source": [
    "# prepare [sentences] into cols x rows encoded tensor\n",
    "def _CorpusToEncodedTensor(corpus, cols, n=2, limit=None, til=True):\n",
    "    local_corpus = [s for s in corpus if len(s.words) >= n]\n",
    "\n",
    "    if limit is None and til is not True:\n",
    "        raise Exception(\"Cannot access index: None\")\n",
    "    elif limit is None and til is True:\n",
    "        limit = len(local_corpus)\n",
    "    elif limit is not None and til is True:\n",
    "        local_corpus = local_corpus[:(limit+1)]\n",
    "    elif limit is not None and til is not True:\n",
    "        local_corpus = [local_corpus[limit]]\n",
    "\n",
    "    encoded = []\n",
    "    for sentence in local_corpus:\n",
    "        e = [w.__hash__() for w in sentence]\n",
    "        difference = cols - len(e)\n",
    "        e += [0] * difference\n",
    "        encoded.append(e)\n",
    "\n",
    "    return encoded\n",
    "\n",
    "sen = Sentence([Word(\"lewwel\", \"2\", \"3\", \"4\"), Word(\"lewwel\", \"2\", \"3\", \"4\"), Word(\"Tielet\", \"2\", \"3\", \"4\"), Word(\"Raba\", \"2\", \"3\", \"4\")])\n",
    "sen2 = Sentence([Word(\"Hames\", \"2\", \"3\", \"4\"), Word(\"Sitt\", \"2\", \"3\", \"4\"), Word(\"Tielet\", \"2\", \"3\", \"4\"), Word(\"Seba\", \"2\", \"3\", \"4\")])\n",
    "sen3 = Sentence([Word(\"lewwel\", \"2\", \"3\", \"4\"), Word(\"lewwel\", \"2\", \"3\", \"4\"), Word(\"Sitt\", \"2\", \"3\", \"4\"), Word(\"Tielet\", \"2\", \"3\", \"4\")])\n",
    "test = [sen, sen2, sen3]\n",
    "cols = 7"
   ],
   "metadata": {
    "collapsed": false,
    "pycharm": {
     "name": "#%%\n"
    }
   }
  },
  {
   "cell_type": "code",
   "execution_count": 17,
   "outputs": [
    {
     "name": "stdout",
     "output_type": "stream",
     "text": [
      "tensor([-2503414856370251983, -2503414856370251983]) 1\n",
      "tensor([-2503414856370251983,  8566423479208599055]) 1\n",
      "tensor([8566423479208599055, 8145379322995423848]) 1\n",
      "tensor([8145379322995423848,                   0]) 1\n",
      "tensor([ 4495160836449559054, -7602474522058741849]) 1\n",
      "tensor([-7602474522058741849,  8566423479208599055]) 1\n",
      "tensor([8566423479208599055, 8113697844016283039]) 1\n",
      "tensor([8113697844016283039,                   0]) 1\n",
      "tensor([-2503414856370251983, -2503414856370251983]) 1\n",
      "tensor([-2503414856370251983, -7602474522058741849]) 1\n",
      "tensor([-7602474522058741849,  8566423479208599055]) 1\n",
      "tensor([8566423479208599055,                   0]) 1\n"
     ]
    }
   ],
   "source": [
    "def ConvNGram(corpus, n=2, limit=None, til=True):\n",
    "    local_corpus = [s for s in corpus if len(s.words) >= n]\n",
    "\n",
    "    if limit is None and til is not True:\n",
    "        raise Exception(\"Cannot access index: None\")\n",
    "    elif limit is None and til is True:\n",
    "        limit = len(local_corpus)\n",
    "    elif limit is not None and til is True:\n",
    "        local_corpus = local_corpus[:(limit+1)]\n",
    "    elif limit is not None and til is not True:\n",
    "        local_corpus = [local_corpus[limit]]\n",
    "\n",
    "    encoded = torch.tensor(_CorpusToEncodedTensor(local_corpus, cols))\n",
    "    frequencies = {}\n",
    "    empty = torch.tensor([0] * n)\n",
    "    sentence_done = False\n",
    "    for sentence in encoded:\n",
    "        for i in range((len(sentence)-n)):\n",
    "            seq = sentence[i:i+n]\n",
    "            if seq.equal(empty):\n",
    "                sentence_done = True\n",
    "                continue\n",
    "            if seq not in frequencies.keys():\n",
    "                frequencies[seq] = 0\n",
    "            frequencies[seq] = frequencies.get(seq) + 1\n",
    "        if sentence_done:\n",
    "            sentence_done = False\n",
    "            continue\n",
    "    return frequencies\n",
    "\n",
    "ngram = ConvNGram(test)\n",
    "for key in ngram:\n",
    "    print(str(key) +\" \"+ str(ngram.get(key)))"
   ],
   "metadata": {
    "collapsed": false,
    "pycharm": {
     "name": "#%%\n"
    }
   }
  }
 ],
 "metadata": {
  "kernelspec": {
   "display_name": "Python 3",
   "language": "python",
   "name": "python3"
  },
  "language_info": {
   "codemirror_mode": {
    "name": "ipython",
    "version": 3
   },
   "file_extension": ".py",
   "mimetype": "text/x-python",
   "name": "python",
   "nbconvert_exporter": "python",
   "pygments_lexer": "ipython3",
   "version": "3.7.1"
  }
 },
 "nbformat": 4,
 "nbformat_minor": 1
}