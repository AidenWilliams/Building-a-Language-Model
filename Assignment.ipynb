{
 "cells": [
  {
   "cell_type": "code",
   "execution_count": 1,
   "metadata": {},
   "outputs": [],
   "source": [
    "from lxml import etree\n",
    "import re\n",
    "from tqdm.notebook import tqdm\n",
    "import torch"
   ]
  },
  {
   "cell_type": "code",
   "execution_count": 2,
   "metadata": {
    "pycharm": {
     "name": "#%%\n"
    }
   },
   "outputs": [],
   "source": [
    "# Create functions to free memory once function scope is left\n",
    "def _readCorpus(corpus=\"Corpus/\", files=None):\n",
    "    if files is None:\n",
    "        files = [\"malti03.parl.1.txt\",\n",
    "                 \"malti03.parl.2.txt\",\n",
    "                 \"malti03.parl.3.txt\",\n",
    "                 \"malti03.parl.4.txt\",\n",
    "                 \"malti03.parl.5.txt\"]\n",
    "    xml_data = []\n",
    "    for file in tqdm(files, desc='Reading Files'):\n",
    "        xml_data.append(open(corpus+file, 'r', encoding='utf8').read())  # Read file\n",
    "    return xml_data"
   ]
  },
  {
   "cell_type": "code",
   "execution_count": 3,
   "metadata": {
    "pycharm": {
     "name": "#%%\n"
    }
   },
   "outputs": [],
   "source": [
    "def _ParseAsXML():\n",
    "    parser = etree.XMLParser(recover=True)\n",
    "    roots = []\n",
    "    xml_data = _readCorpus()\n",
    "    for xml in tqdm(xml_data, desc='Parsing XML'):\n",
    "        roots.append(etree.fromstring(xml, parser=parser))\n",
    "    return roots"
   ]
  },
  {
   "cell_type": "code",
   "execution_count": 4,
   "metadata": {
    "pycharm": {
     "name": "#%%\n"
    }
   },
   "outputs": [],
   "source": [
    "# Define a word class with some functionality\n",
    "class Word:\n",
    "    def __init__(self, kelma, tip, mamma, gherq):\n",
    "        self.kelma = kelma\n",
    "        self.tip = tip\n",
    "        self.mamma = mamma\n",
    "        self.gherq = gherq\n",
    "\n",
    "    def __str__(self):\n",
    "        return  'Kelma: ' + self.kelma + '\\n' + \\\n",
    "                'tip: ' + self.tip + '\\n' + \\\n",
    "                'mamma: ' + self.mamma + '\\n' + \\\n",
    "                'gherq: ' + self.gherq\n",
    "\n",
    "    def __repr__(self):\n",
    "        return self.__str__()\n",
    "\n",
    "    def __iter__(self):\n",
    "        for each in self.__dict__.values():\n",
    "            yield each\n",
    "\n",
    "    def __getitem__(self, index):\n",
    "        if index < 4:\n",
    "            return list(self.__dict__.values())[index]\n",
    "        else:\n",
    "            raise IndexError('Max index is 3')\n",
    "\n",
    "    def __eq__(self, word):\n",
    "        return  self.kelma == word.kelma and \\\n",
    "                self.tip == word.tip and \\\n",
    "                self.mamma == word.mamma and \\\n",
    "                self.gherq == word.gherq\n",
    "\n",
    "    def __ne__(self, word):\n",
    "        return not self == word\n",
    "\n",
    "    def __hash__(self):\n",
    "        return hash((self.kelma, self.tip, self.mamma, self.gherq))"
   ]
  },
  {
   "cell_type": "code",
   "execution_count": 5,
   "metadata": {
    "pycharm": {
     "name": "#%%\n"
    }
   },
   "outputs": [],
   "source": [
    "# Define Sentence class with some functionality\n",
    "class Sentence:\n",
    "    def __init__(self, words=None):\n",
    "        if words is None:\n",
    "            words = []\n",
    "        self.words = words\n",
    "\n",
    "    def __str__(self):\n",
    "        s = ''\n",
    "        for word in self.words:\n",
    "            s += word.kelma + \" \"\n",
    "        return s\n",
    "\n",
    "    def __repr__(self):\n",
    "        return self.__str__()\n",
    "\n",
    "    def __iter__(self):\n",
    "        for word in self.words:\n",
    "            yield word\n",
    "\n",
    "    def __getitem__(self, index):\n",
    "        return self.words[index]\n",
    "\n",
    "    def append(self, word: Word):\n",
    "        self.words.append(word)\n",
    "\n",
    "    def insert(self,index, word: Word):\n",
    "        self.words.insert(index, word)\n",
    "\n",
    "    def __eq__(self, sentence):\n",
    "        for w1, w2 in self, sentence:\n",
    "            if w1 != w2:\n",
    "                return False\n",
    "        return True\n",
    "\n",
    "    def __ne__(self, sentence):\n",
    "        return not self != sentence\n",
    "\n",
    "    def __len__(self):\n",
    "        return len(self.words)"
   ]
  },
  {
   "cell_type": "code",
   "execution_count": 6,
   "metadata": {
    "pycharm": {
     "name": "#%%\n"
    }
   },
   "outputs": [],
   "source": [
    "# Mention garbage collection effort and try outs for pd and numpy and why i settled with list of lists (pd matrix, list of lists no)\n",
    "def CorpusAsListOfLists():\n",
    "    roots = _ParseAsXML()\n",
    "    sentences = []\n",
    "    for root in tqdm(roots, desc='XML File'):\n",
    "        for i, p in tqdm(enumerate(root), desc='Paragraph'):\n",
    "            for k, s in enumerate(p):\n",
    "                unfiltered_sentence = re.split(r'\\n', s.text.lstrip('\\n'))\n",
    "                sentence = Sentence()\n",
    "                for unfiltered_word in unfiltered_sentence:\n",
    "                    if unfiltered_word is not \"\":\n",
    "                        filtered_word = unfiltered_word.split('\\t')\n",
    "                        sentence.append(Word(   filtered_word[0],\n",
    "                                                filtered_word[1],\n",
    "                                                filtered_word[2],\n",
    "                                                filtered_word[3]))\n",
    "                if sentence is not []:\n",
    "                    sentence.insert(0, Word(\"<s>\", \"Bidu\", \"null\", \"null\"))\n",
    "                    sentences.append(sentence)\n",
    "                    sentence.insert(0, Word(\"</s>\", \"Tmiem\", \"null\", \"null\"))\n",
    "    return sentences"
   ]
  },
  {
   "cell_type": "code",
   "execution_count": 7,
   "outputs": [],
   "source": [
    "# sen = Sentence([Word(\"lewwel\", \"2\", \"3\", \"4\"), Word(\"lewwel\", \"2\", \"3\", \"4\")])\n",
    "# print(sen)\n",
    "# sen2 = Sentence([Word(\"Monkey\", \"2\", \"3\", \"4\"), Word(\"Monkey\", \"2\", \"3\", \"4\"),Word(\"lewwel\", \"2\", \"3\", \"4\"), Word(\"lewwel\", \"2\", \"3\", \"4\")])\n",
    "# print(sen2)\n",
    "# sen3 = Sentence([Word(\"Monkey\", \"2\", \"3\", \"4\"), Word(\"lewwel\", \"2\", \"3\", \"4\"), Word(\"Monkey\", \"2\", \"3\", \"4\"), Word(\"lewwel\", \"2\", \"3\", \"4\")])\n",
    "# print(sen3)\n",
    "# test = [sen, sen2, sen3]\n",
    "\n"
   ],
   "metadata": {
    "collapsed": false,
    "pycharm": {
     "name": "#%%\n"
    }
   }
  },
  {
   "cell_type": "code",
   "execution_count": 8,
   "outputs": [],
   "source": [
    "# prepare [sentences] into cols x rows encoded tensor\n",
    "def _CorpusToEncodedTensor(corpus, cols, n=2, limit=None, til=True):\n",
    "    local_corpus = [s for s in corpus if len(s.words) >= n]\n",
    "\n",
    "    if limit is None and til is not True:\n",
    "        raise Exception(\"Cannot access index: None\")\n",
    "    elif limit is not None and til is True:\n",
    "        local_corpus = local_corpus[:(limit+1)]\n",
    "    elif limit is not None and til is not True:\n",
    "        local_corpus = [local_corpus[limit]]\n",
    "\n",
    "    encoded = []\n",
    "    for sentence in local_corpus:\n",
    "        e = [w.__hash__() for w in sentence]\n",
    "        difference = cols - len(e)\n",
    "        e += [0] * difference\n",
    "        encoded.append(e)\n",
    "\n",
    "    return encoded"
   ],
   "metadata": {
    "collapsed": false,
    "pycharm": {
     "name": "#%%\n"
    }
   }
  },
  {
   "cell_type": "code",
   "execution_count": 11,
   "outputs": [],
   "source": [
    "def NGram(corpus, n=2, limit=None, til=True):\n",
    "    local_corpus = [s for s in corpus if len(s.words) >= n]\n",
    "\n",
    "    if limit is None and til is not True:\n",
    "        raise Exception(\"Cannot access index: None\")\n",
    "    elif limit is not None and til is True:\n",
    "        local_corpus = local_corpus[:(limit+1)]\n",
    "    elif limit is not None and til is not True:\n",
    "        local_corpus = [local_corpus[limit]]\n",
    "\n",
    "    frequencies = {}\n",
    "    #encoded = torch.tensor(_CorpusToEncodedTensor(local_corpus, cols))\n",
    "    words = [w for s in local_corpus for w in s]\n",
    "    uniquewords = set(words)#{w.__hash__():w for w in words}\n",
    "    _ngrams = []\n",
    "    n = 2\n",
    "\n",
    "    for i in uniquewords:\n",
    "        for j in uniquewords:\n",
    "            _ngrams.append(tuple(i, j))#torch.tensor([i, j]))\n",
    "\n",
    "    for _ngram in _ngrams:\n",
    "        x_count = 0\n",
    "        for r in local_corpus:#encoded:\n",
    "            for i in range(len(r) - 1):\n",
    "                if r[i] == _ngram[0] and r[i+1] == _ngram[1]:\n",
    "                    x_count+=1\n",
    "\n",
    "        starting = []\n",
    "        for i in range(cols):\n",
    "            possibility = [0] * cols\n",
    "            possibility[i] = _ngram[0]\n",
    "            starting.append(possibility)\n",
    "\n",
    "        intermediate = []\n",
    "        remaining = n - 1\n",
    "        runs = []\n",
    "        for j in range(remaining):\n",
    "            for i in range(len(starting)):\n",
    "                cpy = starting[i].copy()\n",
    "                for k in range(cols):\n",
    "                    if cpy[k] != 0:\n",
    "                        continue\n",
    "                    cpy[k] = _ngram[j+1]\n",
    "                    intermediate.append(cpy)\n",
    "                    cpy = starting[i].copy()\n",
    "\n",
    "            runs.append(len(intermediate))\n",
    "\n",
    "            starting = intermediate.copy()\n",
    "\n",
    "        if n == 1:\n",
    "            final = starting\n",
    "        elif n == 2:\n",
    "            final = intermediate\n",
    "        else:\n",
    "            final = intermediate[runs[-2]:]\n",
    "\n",
    "        y_count = 0\n",
    "        for r in final:\n",
    "            for i in range(len(r) - 1):\n",
    "                if r[i] == _ngram[0] and r[i+1] == _ngram[1]:\n",
    "                    y_count+=1\n",
    "\n",
    "        frequency = x_count / y_count\n",
    "\n",
    "        nice_label = []\n",
    "        for i in range(n):\n",
    "            nice_label.append(uniquewords[_ngram[i].tolist()].kelma)\n",
    "\n",
    "        frequencies[tuple(nice_label)] = frequency\n",
    "    return frequencies"
   ],
   "metadata": {
    "collapsed": false,
    "pycharm": {
     "name": "#%%\n"
    }
   }
  },
  {
   "cell_type": "code",
   "execution_count": 12,
   "outputs": [
    {
     "data": {
      "text/plain": "Reading Files:   0%|          | 0/5 [00:00<?, ?it/s]",
      "application/vnd.jupyter.widget-view+json": {
       "version_major": 2,
       "version_minor": 0,
       "model_id": "d2a6a50f30f54777a69d58f9ba035f74"
      }
     },
     "metadata": {},
     "output_type": "display_data"
    },
    {
     "data": {
      "text/plain": "Parsing XML:   0%|          | 0/5 [00:00<?, ?it/s]",
      "application/vnd.jupyter.widget-view+json": {
       "version_major": 2,
       "version_minor": 0,
       "model_id": "62c05779876b4d21975b1f42703c325e"
      }
     },
     "metadata": {},
     "output_type": "display_data"
    },
    {
     "data": {
      "text/plain": "XML File:   0%|          | 0/5 [00:00<?, ?it/s]",
      "application/vnd.jupyter.widget-view+json": {
       "version_major": 2,
       "version_minor": 0,
       "model_id": "996ca248d1d148f4a19c14b3db79640d"
      }
     },
     "metadata": {},
     "output_type": "display_data"
    },
    {
     "data": {
      "text/plain": "Paragraph: 0it [00:00, ?it/s]",
      "application/vnd.jupyter.widget-view+json": {
       "version_major": 2,
       "version_minor": 0,
       "model_id": "c4e056984e4e4c92b85dfb46f7ede5a7"
      }
     },
     "metadata": {},
     "output_type": "display_data"
    },
    {
     "data": {
      "text/plain": "Paragraph: 0it [00:00, ?it/s]",
      "application/vnd.jupyter.widget-view+json": {
       "version_major": 2,
       "version_minor": 0,
       "model_id": "e06977c80c864e45b8bafbaeeaaed7c3"
      }
     },
     "metadata": {},
     "output_type": "display_data"
    },
    {
     "data": {
      "text/plain": "Paragraph: 0it [00:00, ?it/s]",
      "application/vnd.jupyter.widget-view+json": {
       "version_major": 2,
       "version_minor": 0,
       "model_id": "9e0439dfcf0347bfbe95531ab0b8f3a5"
      }
     },
     "metadata": {},
     "output_type": "display_data"
    },
    {
     "data": {
      "text/plain": "Paragraph: 0it [00:00, ?it/s]",
      "application/vnd.jupyter.widget-view+json": {
       "version_major": 2,
       "version_minor": 0,
       "model_id": "b252e7c1b9e04ab99ba16f29d2db8cbe"
      }
     },
     "metadata": {},
     "output_type": "display_data"
    },
    {
     "data": {
      "text/plain": "Paragraph: 0it [00:00, ?it/s]",
      "application/vnd.jupyter.widget-view+json": {
       "version_major": 2,
       "version_minor": 0,
       "model_id": "000e48d18a4f4d03adabcb88e2e509ac"
      }
     },
     "metadata": {},
     "output_type": "display_data"
    },
    {
     "ename": "TypeError",
     "evalue": "tuple expected at most 1 arguments, got 2",
     "output_type": "error",
     "traceback": [
      "\u001B[1;31m---------------------------------------------------------------------------\u001B[0m",
      "\u001B[1;31mTypeError\u001B[0m                                 Traceback (most recent call last)",
      "\u001B[1;32m<ipython-input-12-0e1c0bc3c641>\u001B[0m in \u001B[0;36m<module>\u001B[1;34m\u001B[0m\n\u001B[1;32m----> 1\u001B[1;33m \u001B[0mget_ipython\u001B[0m\u001B[1;33m(\u001B[0m\u001B[1;33m)\u001B[0m\u001B[1;33m.\u001B[0m\u001B[0mrun_cell_magic\u001B[0m\u001B[1;33m(\u001B[0m\u001B[1;34m'timeit'\u001B[0m\u001B[1;33m,\u001B[0m \u001B[1;34m''\u001B[0m\u001B[1;33m,\u001B[0m \u001B[1;34m'corpus = CorpusAsListOfLists()\\ncols = 0\\nfor sentence in corpus:\\n    if len(sentence) > cols:\\n        cols = len(sentence)\\nngram = NGram(corpus, cols)\\nfor n in ngram:\\n    print(str(n) + \" :  \" + str(ngram[n]))\\n\\n'\u001B[0m\u001B[1;33m)\u001B[0m\u001B[1;33m\u001B[0m\u001B[1;33m\u001B[0m\u001B[0m\n\u001B[0m",
      "\u001B[1;32mc:\\users\\aiden williams\\appdata\\local\\programs\\python\\python37\\lib\\site-packages\\IPython\\core\\interactiveshell.py\u001B[0m in \u001B[0;36mrun_cell_magic\u001B[1;34m(self, magic_name, line, cell)\u001B[0m\n\u001B[0;32m   2389\u001B[0m             \u001B[1;32mwith\u001B[0m \u001B[0mself\u001B[0m\u001B[1;33m.\u001B[0m\u001B[0mbuiltin_trap\u001B[0m\u001B[1;33m:\u001B[0m\u001B[1;33m\u001B[0m\u001B[1;33m\u001B[0m\u001B[0m\n\u001B[0;32m   2390\u001B[0m                 \u001B[0margs\u001B[0m \u001B[1;33m=\u001B[0m \u001B[1;33m(\u001B[0m\u001B[0mmagic_arg_s\u001B[0m\u001B[1;33m,\u001B[0m \u001B[0mcell\u001B[0m\u001B[1;33m)\u001B[0m\u001B[1;33m\u001B[0m\u001B[1;33m\u001B[0m\u001B[0m\n\u001B[1;32m-> 2391\u001B[1;33m                 \u001B[0mresult\u001B[0m \u001B[1;33m=\u001B[0m \u001B[0mfn\u001B[0m\u001B[1;33m(\u001B[0m\u001B[1;33m*\u001B[0m\u001B[0margs\u001B[0m\u001B[1;33m,\u001B[0m \u001B[1;33m**\u001B[0m\u001B[0mkwargs\u001B[0m\u001B[1;33m)\u001B[0m\u001B[1;33m\u001B[0m\u001B[1;33m\u001B[0m\u001B[0m\n\u001B[0m\u001B[0;32m   2392\u001B[0m             \u001B[1;32mreturn\u001B[0m \u001B[0mresult\u001B[0m\u001B[1;33m\u001B[0m\u001B[1;33m\u001B[0m\u001B[0m\n\u001B[0;32m   2393\u001B[0m \u001B[1;33m\u001B[0m\u001B[0m\n",
      "\u001B[1;32m<decorator-gen-54>\u001B[0m in \u001B[0;36mtimeit\u001B[1;34m(self, line, cell, local_ns)\u001B[0m\n",
      "\u001B[1;32mc:\\users\\aiden williams\\appdata\\local\\programs\\python\\python37\\lib\\site-packages\\IPython\\core\\magic.py\u001B[0m in \u001B[0;36m<lambda>\u001B[1;34m(f, *a, **k)\u001B[0m\n\u001B[0;32m    185\u001B[0m     \u001B[1;31m# but it's overkill for just that one bit of state.\u001B[0m\u001B[1;33m\u001B[0m\u001B[1;33m\u001B[0m\u001B[1;33m\u001B[0m\u001B[0m\n\u001B[0;32m    186\u001B[0m     \u001B[1;32mdef\u001B[0m \u001B[0mmagic_deco\u001B[0m\u001B[1;33m(\u001B[0m\u001B[0marg\u001B[0m\u001B[1;33m)\u001B[0m\u001B[1;33m:\u001B[0m\u001B[1;33m\u001B[0m\u001B[1;33m\u001B[0m\u001B[0m\n\u001B[1;32m--> 187\u001B[1;33m         \u001B[0mcall\u001B[0m \u001B[1;33m=\u001B[0m \u001B[1;32mlambda\u001B[0m \u001B[0mf\u001B[0m\u001B[1;33m,\u001B[0m \u001B[1;33m*\u001B[0m\u001B[0ma\u001B[0m\u001B[1;33m,\u001B[0m \u001B[1;33m**\u001B[0m\u001B[0mk\u001B[0m\u001B[1;33m:\u001B[0m \u001B[0mf\u001B[0m\u001B[1;33m(\u001B[0m\u001B[1;33m*\u001B[0m\u001B[0ma\u001B[0m\u001B[1;33m,\u001B[0m \u001B[1;33m**\u001B[0m\u001B[0mk\u001B[0m\u001B[1;33m)\u001B[0m\u001B[1;33m\u001B[0m\u001B[1;33m\u001B[0m\u001B[0m\n\u001B[0m\u001B[0;32m    188\u001B[0m \u001B[1;33m\u001B[0m\u001B[0m\n\u001B[0;32m    189\u001B[0m         \u001B[1;32mif\u001B[0m \u001B[0mcallable\u001B[0m\u001B[1;33m(\u001B[0m\u001B[0marg\u001B[0m\u001B[1;33m)\u001B[0m\u001B[1;33m:\u001B[0m\u001B[1;33m\u001B[0m\u001B[1;33m\u001B[0m\u001B[0m\n",
      "\u001B[1;32mc:\\users\\aiden williams\\appdata\\local\\programs\\python\\python37\\lib\\site-packages\\IPython\\core\\magics\\execution.py\u001B[0m in \u001B[0;36mtimeit\u001B[1;34m(self, line, cell, local_ns)\u001B[0m\n\u001B[0;32m   1167\u001B[0m             \u001B[1;32mfor\u001B[0m \u001B[0mindex\u001B[0m \u001B[1;32min\u001B[0m \u001B[0mrange\u001B[0m\u001B[1;33m(\u001B[0m\u001B[1;36m0\u001B[0m\u001B[1;33m,\u001B[0m \u001B[1;36m10\u001B[0m\u001B[1;33m)\u001B[0m\u001B[1;33m:\u001B[0m\u001B[1;33m\u001B[0m\u001B[1;33m\u001B[0m\u001B[0m\n\u001B[0;32m   1168\u001B[0m                 \u001B[0mnumber\u001B[0m \u001B[1;33m=\u001B[0m \u001B[1;36m10\u001B[0m \u001B[1;33m**\u001B[0m \u001B[0mindex\u001B[0m\u001B[1;33m\u001B[0m\u001B[1;33m\u001B[0m\u001B[0m\n\u001B[1;32m-> 1169\u001B[1;33m                 \u001B[0mtime_number\u001B[0m \u001B[1;33m=\u001B[0m \u001B[0mtimer\u001B[0m\u001B[1;33m.\u001B[0m\u001B[0mtimeit\u001B[0m\u001B[1;33m(\u001B[0m\u001B[0mnumber\u001B[0m\u001B[1;33m)\u001B[0m\u001B[1;33m\u001B[0m\u001B[1;33m\u001B[0m\u001B[0m\n\u001B[0m\u001B[0;32m   1170\u001B[0m                 \u001B[1;32mif\u001B[0m \u001B[0mtime_number\u001B[0m \u001B[1;33m>=\u001B[0m \u001B[1;36m0.2\u001B[0m\u001B[1;33m:\u001B[0m\u001B[1;33m\u001B[0m\u001B[1;33m\u001B[0m\u001B[0m\n\u001B[0;32m   1171\u001B[0m                     \u001B[1;32mbreak\u001B[0m\u001B[1;33m\u001B[0m\u001B[1;33m\u001B[0m\u001B[0m\n",
      "\u001B[1;32mc:\\users\\aiden williams\\appdata\\local\\programs\\python\\python37\\lib\\site-packages\\IPython\\core\\magics\\execution.py\u001B[0m in \u001B[0;36mtimeit\u001B[1;34m(self, number)\u001B[0m\n\u001B[0;32m    167\u001B[0m         \u001B[0mgc\u001B[0m\u001B[1;33m.\u001B[0m\u001B[0mdisable\u001B[0m\u001B[1;33m(\u001B[0m\u001B[1;33m)\u001B[0m\u001B[1;33m\u001B[0m\u001B[1;33m\u001B[0m\u001B[0m\n\u001B[0;32m    168\u001B[0m         \u001B[1;32mtry\u001B[0m\u001B[1;33m:\u001B[0m\u001B[1;33m\u001B[0m\u001B[1;33m\u001B[0m\u001B[0m\n\u001B[1;32m--> 169\u001B[1;33m             \u001B[0mtiming\u001B[0m \u001B[1;33m=\u001B[0m \u001B[0mself\u001B[0m\u001B[1;33m.\u001B[0m\u001B[0minner\u001B[0m\u001B[1;33m(\u001B[0m\u001B[0mit\u001B[0m\u001B[1;33m,\u001B[0m \u001B[0mself\u001B[0m\u001B[1;33m.\u001B[0m\u001B[0mtimer\u001B[0m\u001B[1;33m)\u001B[0m\u001B[1;33m\u001B[0m\u001B[1;33m\u001B[0m\u001B[0m\n\u001B[0m\u001B[0;32m    170\u001B[0m         \u001B[1;32mfinally\u001B[0m\u001B[1;33m:\u001B[0m\u001B[1;33m\u001B[0m\u001B[1;33m\u001B[0m\u001B[0m\n\u001B[0;32m    171\u001B[0m             \u001B[1;32mif\u001B[0m \u001B[0mgcold\u001B[0m\u001B[1;33m:\u001B[0m\u001B[1;33m\u001B[0m\u001B[1;33m\u001B[0m\u001B[0m\n",
      "\u001B[1;32m<magic-timeit>\u001B[0m in \u001B[0;36minner\u001B[1;34m(_it, _timer)\u001B[0m\n",
      "\u001B[1;32m<ipython-input-11-18ffd70942c4>\u001B[0m in \u001B[0;36mNGram\u001B[1;34m(corpus, n, limit, til)\u001B[0m\n\u001B[0;32m     18\u001B[0m     \u001B[1;32mfor\u001B[0m \u001B[0mi\u001B[0m \u001B[1;32min\u001B[0m \u001B[0muniquewords\u001B[0m\u001B[1;33m:\u001B[0m\u001B[1;33m\u001B[0m\u001B[1;33m\u001B[0m\u001B[0m\n\u001B[0;32m     19\u001B[0m         \u001B[1;32mfor\u001B[0m \u001B[0mj\u001B[0m \u001B[1;32min\u001B[0m \u001B[0muniquewords\u001B[0m\u001B[1;33m:\u001B[0m\u001B[1;33m\u001B[0m\u001B[1;33m\u001B[0m\u001B[0m\n\u001B[1;32m---> 20\u001B[1;33m             \u001B[0m_ngrams\u001B[0m\u001B[1;33m.\u001B[0m\u001B[0mappend\u001B[0m\u001B[1;33m(\u001B[0m\u001B[0mtuple\u001B[0m\u001B[1;33m(\u001B[0m\u001B[0mi\u001B[0m\u001B[1;33m,\u001B[0m \u001B[0mj\u001B[0m\u001B[1;33m)\u001B[0m\u001B[1;33m)\u001B[0m\u001B[1;31m#torch.tensor([i, j]))\u001B[0m\u001B[1;33m\u001B[0m\u001B[1;33m\u001B[0m\u001B[0m\n\u001B[0m\u001B[0;32m     21\u001B[0m \u001B[1;33m\u001B[0m\u001B[0m\n\u001B[0;32m     22\u001B[0m     \u001B[1;32mfor\u001B[0m \u001B[0m_ngram\u001B[0m \u001B[1;32min\u001B[0m \u001B[0m_ngrams\u001B[0m\u001B[1;33m:\u001B[0m\u001B[1;33m\u001B[0m\u001B[1;33m\u001B[0m\u001B[0m\n",
      "\u001B[1;31mTypeError\u001B[0m: tuple expected at most 1 arguments, got 2"
     ]
    }
   ],
   "source": [
    "%%timeit\n",
    "corpus = CorpusAsListOfLists()\n",
    "cols = 0\n",
    "for sentence in corpus:\n",
    "    if len(sentence) > cols:\n",
    "        cols = len(sentence)\n",
    "ngram = NGram(corpus, cols)\n",
    "for n in ngram:\n",
    "    print(str(n) + \" :  \" + str(ngram[n]))"
   ],
   "metadata": {
    "collapsed": false,
    "pycharm": {
     "name": "#%%\n"
    }
   }
  },
  {
   "cell_type": "code",
   "execution_count": null,
   "outputs": [],
   "source": [
    "n = 1\n",
    "lc = [['1'], ['2', '3', '4', '5', '6'], ['7', '8', '9'], ['10', '11', '12', '13']]\n",
    "local_corpus = [s for s in lc if len(s) >= n]"
   ],
   "metadata": {
    "collapsed": false,
    "pycharm": {
     "name": "#%%\n"
    }
   }
  },
  {
   "cell_type": "code",
   "execution_count": null,
   "outputs": [],
   "source": [
    "words = [w for s in local_corpus for w in s]\n",
    "uniquewords = set(words)\n",
    "\n",
    "_ngrams = []#'#list(combinations(uniquewords, n))\n",
    "print(_ngrams[0])"
   ],
   "metadata": {
    "collapsed": false,
    "pycharm": {
     "name": "#%%\n"
    }
   }
  },
  {
   "cell_type": "code",
   "execution_count": null,
   "outputs": [],
   "source": [
    "x_counts = {}\n",
    "for s in local_corpus:\n",
    "    for i in range(len(s)):\n",
    "        if i < n-1:\n",
    "            continue\n",
    "        count = []\n",
    "        for x in range(n,0,-1):\n",
    "            count.append(s[i - x])\n",
    "        count = tuple(count)\n",
    "\n",
    "        if count in x_counts:\n",
    "            x_counts[count] += 1\n",
    "        else:\n",
    "            x_counts[count] = 1"
   ],
   "metadata": {
    "collapsed": false,
    "pycharm": {
     "name": "#%%\n"
    }
   }
  },
  {
   "cell_type": "code",
   "execution_count": null,
   "outputs": [],
   "source": [
    "print(x_counts)\n",
    "_ngrams = {1: {\"x\": x_counts, \"y\": x_counts}}"
   ],
   "metadata": {
    "collapsed": false,
    "pycharm": {
     "name": "#%%\n"
    }
   }
  },
  {
   "cell_type": "code",
   "execution_count": null,
   "outputs": [],
   "source": [
    "print(_ngrams[1][\"y\"])\n"
   ],
   "metadata": {
    "collapsed": false,
    "pycharm": {
     "name": "#%%\n"
    }
   }
  },
  {
   "cell_type": "code",
   "execution_count": null,
   "outputs": [],
   "source": [
    "n = 2\n",
    "x_counts = {}\n",
    "for s in local_corpus:\n",
    "    for i in range(len(s)):\n",
    "        if i < n-1:\n",
    "            continue\n",
    "        count = []\n",
    "        for x in range(n,0,-1):\n",
    "            count.append(s[i - x])\n",
    "        count = tuple(count)\n",
    "\n",
    "        if count in x_counts:\n",
    "            x_counts[count] += 1\n",
    "        else:\n",
    "            x_counts[count] = 1\n",
    "print(x_counts)"
   ],
   "metadata": {
    "collapsed": false,
    "pycharm": {
     "name": "#%%\n"
    }
   }
  },
  {
   "cell_type": "code",
   "execution_count": null,
   "outputs": [],
   "source": [
    "_ngrams = {1: {\"x\": x_counts, \"y\": x_counts,\n",
    "                \"flags\":\n",
    "                    {\n",
    "                    \"limit\": None, \"til\": True, \"frequency\": False\n",
    "                    }\n",
    "                }\n",
    "           }\n",
    "print(_ngrams[1][\"flags\"])"
   ],
   "metadata": {
    "collapsed": false,
    "pycharm": {
     "name": "#%%\n"
    }
   }
  },
  {
   "cell_type": "code",
   "execution_count": null,
   "outputs": [],
   "source": [
    "_ngrams[n] = {\"x\": x_counts, \"y\": _ngrams[n-1][\"y\"]}\n",
    "print(_ngrams[n])"
   ],
   "metadata": {
    "collapsed": false,
    "pycharm": {
     "name": "#%%\n"
    }
   }
  },
  {
   "cell_type": "code",
   "execution_count": null,
   "outputs": [],
   "source": [
    "# <s> I am Sam </s>\n",
    "# <s> Sam I am </s>\n",
    "# <s> I do not like green eggs and ham </s>\n",
    "#\n",
    "# sen = Sentence([Word(\"<s>\", \"\", \"\", \"\"), Word(\"I\", \"\", \"\", \"\"), Word(\"am\", \"\", \"\", \"\"), Word(\"Sam\", \"\", \"\", \"\"), Word(\"</s>\", \"\", \"\", \"\")])\n",
    "# sen2 = Sentence([Word(\"<s>\", \"\", \"\", \"\"), Word(\"Sam\", \"\", \"\", \"\"),Word(\"I\", \"\", \"\", \"\"), Word(\"am\", \"\", \"\", \"\"), Word(\"</s>\", \"\", \"\", \"\")])\n",
    "# sen3 = Sentence([Word(\"<s>\", \"\", \"\", \"\"), Word(\"I\", \"\", \"\", \"\"), Word(\"do\", \"\", \"\", \"\"), Word(\"not\", \"\", \"\", \"\"), Word(\"like\", \"\", \"\", \"\"), Word(\"green\", \"\", \"\", \"\"), Word(\"eggs\", \"\", \"\", \"\"), Word(\"and\", \"\", \"\", \"\"), Word(\"ham\", \"\", \"\", \"\"), Word(\"</s>\", \"\", \"\", \"\")])\n",
    "#\n",
    "# test = [sen, sen2, sen3]"
   ],
   "metadata": {
    "collapsed": false,
    "pycharm": {
     "name": "#%%\n"
    }
   }
  },
  {
   "cell_type": "code",
   "execution_count": null,
   "outputs": [],
   "source": [
    "# x_counts = {}\n",
    "# for s in tqdm(test, desc='Counting x counts'):\n",
    "#     for i in range(len(s)):\n",
    "#         count = tuple([s[i]])\n",
    "#\n",
    "#         if count in x_counts:\n",
    "#             x_counts[count] += 1\n",
    "#         else:\n",
    "#             x_counts[count] = 1\n",
    "#\n",
    "# _ngrams = {1: {\"gram\": x_counts, \"y\": x_counts,\n",
    "#                     \"flags\":\n",
    "#                         {\n",
    "#                         \"limit\": None, \"til\": True\n",
    "#                         }\n",
    "#                     }\n",
    "#                 }"
   ],
   "metadata": {
    "collapsed": false,
    "pycharm": {
     "name": "#%%\n"
    }
   }
  },
  {
   "cell_type": "code",
   "execution_count": null,
   "outputs": [],
   "source": [
    "# n = 2\n",
    "# previous = _ngrams[1][\"gram\"]\n",
    "# # x_counts = {}\n",
    "# for s in tqdm(test, desc='Counting x counts'):\n",
    "#     for i in range(len(s)):\n",
    "#         if i < n:\n",
    "#             continue\n",
    "#         count = []\n",
    "#         for x in range(n,0,-1):\n",
    "#             count.append(s[i - x])\n",
    "#         count = tuple(count)\n",
    "#\n",
    "#         if count in x_counts:\n",
    "#             x_counts[count] += 1\n",
    "#         else:\n",
    "#             x_counts[count] = 1\n",
    "#\n",
    "# gram = {}\n",
    "# for x in x_counts:\n",
    "#     gram[x] = {\"count\":x_counts[x] , \"probability\":x_counts[x] / previous[x[1:]]}\n",
    "#\n",
    "# _ngrams[n]  = {\"gram\": gram,\n",
    "#                         \"flags\":\n",
    "#                             {\n",
    "#                             \"limit\": None, \"til\": True\n",
    "#                             }\n",
    "#                         }"
   ],
   "metadata": {
    "collapsed": false,
    "pycharm": {
     "name": "#%%\n"
    }
   }
  },
  {
   "cell_type": "code",
   "execution_count": null,
   "outputs": [],
   "source": [],
   "metadata": {
    "collapsed": false,
    "pycharm": {
     "name": "#%%\n"
    }
   }
  }
 ],
 "metadata": {
  "kernelspec": {
   "display_name": "Python 3",
   "language": "python",
   "name": "python3"
  },
  "language_info": {
   "codemirror_mode": {
    "name": "ipython",
    "version": 3
   },
   "file_extension": ".py",
   "mimetype": "text/x-python",
   "name": "python",
   "nbconvert_exporter": "python",
   "pygments_lexer": "ipython3",
   "version": "3.7.1"
  }
 },
 "nbformat": 4,
 "nbformat_minor": 1
}