{
 "cells": [
  {
   "cell_type": "code",
   "execution_count": 1,
   "metadata": {},
   "outputs": [],
   "source": [
    "from lxml import etree\n",
    "import re\n",
    "from tqdm.notebook import tqdm\n",
    "import torch\n",
    "from torch import nn"
   ]
  },
  {
   "cell_type": "code",
   "execution_count": 2,
   "metadata": {
    "pycharm": {
     "name": "#%%\n"
    }
   },
   "outputs": [],
   "source": [
    "# Create functions to free memory once function scope is left\n",
    "def _readCorpus(corpus=\"Corpus/\", files=None ):\n",
    "    if files is None:\n",
    "        files = [\"malti03.parl.1.txt\",\n",
    "                 \"malti03.parl.2.txt\",\n",
    "                 \"malti03.parl.3.txt\",\n",
    "                 \"malti03.parl.4.txt\",\n",
    "                 \"malti03.parl.5.txt\"]\n",
    "    xml_data = []\n",
    "    for file in tqdm(files, desc='Reading Files'):\n",
    "        xml_data.append(open(corpus+file, 'r', encoding='utf8').read())  # Read file\n",
    "    return xml_data"
   ]
  },
  {
   "cell_type": "code",
   "execution_count": 3,
   "metadata": {
    "pycharm": {
     "name": "#%%\n"
    }
   },
   "outputs": [],
   "source": [
    "def _ParseAsXML():\n",
    "    parser = etree.XMLParser(recover=True)\n",
    "    roots = []\n",
    "    xml_data = _readCorpus()\n",
    "    for xml in tqdm(xml_data, desc='Parsing XML'):\n",
    "        roots.append(etree.fromstring(xml, parser=parser))\n",
    "    return roots"
   ]
  },
  {
   "cell_type": "code",
   "execution_count": 4,
   "metadata": {
    "pycharm": {
     "name": "#%%\n"
    }
   },
   "outputs": [],
   "source": [
    "# Define a word class with some functionality\n",
    "class Word:\n",
    "    def __init__(self, kelma, tip, mamma, gherq):\n",
    "        self.kelma = kelma\n",
    "        self.tip = tip\n",
    "        self.mamma = mamma\n",
    "        self.gherq = gherq\n",
    "\n",
    "    def __str__(self):\n",
    "        return  'Kelma: ' + self.kelma + '\\n' + \\\n",
    "                'tip: ' + self.tip + '\\n' + \\\n",
    "                'mamma: ' + self.mamma + '\\n' + \\\n",
    "                'gherq: ' + self.gherq\n",
    "\n",
    "    def __repr__(self):\n",
    "        return self.__str__()\n",
    "\n",
    "    def __iter__(self):\n",
    "        for each in self.__dict__.values():\n",
    "            yield each\n",
    "\n",
    "    def __getitem__(self, index):\n",
    "        if index < 4:\n",
    "            return list(self.__dict__.values())[index]\n",
    "        else:\n",
    "            raise IndexError('Max index is 3')\n",
    "\n",
    "    def __eq__(self, word):\n",
    "        return  self.kelma == word.kelma and \\\n",
    "                self.tip == word.tip and \\\n",
    "                self.mamma == word.mamma and \\\n",
    "                self.gherq == word.gherq\n",
    "\n",
    "    def __ne__(self, word):\n",
    "        return not self == word\n",
    "\n",
    "    def __hash__(self):\n",
    "        return hash((self.kelma, self.tip, self.mamma, self.gherq))"
   ]
  },
  {
   "cell_type": "code",
   "execution_count": 5,
   "metadata": {
    "pycharm": {
     "name": "#%%\n"
    }
   },
   "outputs": [],
   "source": [
    "# Define Sentence class with some functionality\n",
    "class Sentence:\n",
    "    def __init__(self, words=None):\n",
    "        if words is None:\n",
    "            words = []\n",
    "        self.words = words\n",
    "\n",
    "    def __str__(self):\n",
    "        s = ''\n",
    "        for word in self.words:\n",
    "            s += word.kelma + \" \"\n",
    "        return s\n",
    "\n",
    "    def __repr__(self):\n",
    "        return self.__str__()\n",
    "\n",
    "    def __iter__(self):\n",
    "        for word in self.words:\n",
    "            yield word\n",
    "\n",
    "    def __getitem__(self, index):\n",
    "        return self.words[index]\n",
    "\n",
    "    def append(self, word: Word):\n",
    "        self.words.append(word)\n",
    "\n",
    "    def insert(self,index, word: Word):\n",
    "        self.words.insert(index, word)\n",
    "\n",
    "    def __eq__(self, sentence):\n",
    "        for w1, w2 in self, sentence:\n",
    "            if w1 != w2:\n",
    "                return False\n",
    "        return True\n",
    "\n",
    "    def __ne__(self, sentence):\n",
    "        return not self != sentence\n",
    "\n",
    "    def __len__(self):\n",
    "        return len(self.words)"
   ]
  },
  {
   "cell_type": "code",
   "execution_count": 6,
   "metadata": {
    "pycharm": {
     "name": "#%%\n"
    }
   },
   "outputs": [],
   "source": [
    "# Mention garbage collection effort and try outs for pd and numpy and why i settled with list of lists (pd matrix, list of lists no)\n",
    "def CorpusAsListOfLists():\n",
    "    roots = _ParseAsXML()\n",
    "    sentences = []\n",
    "    for root in tqdm(roots, desc='XML File'):\n",
    "        for i, p in tqdm(enumerate(root), desc='Paragraph'):\n",
    "            for k, s in enumerate(p):\n",
    "                unfiltered_sentence = re.split(r'\\n', s.text.lstrip('\\n'))\n",
    "                sentence = Sentence()\n",
    "                for unfiltered_word in unfiltered_sentence:\n",
    "                    if unfiltered_word is not \"\":\n",
    "                        filtered_word = unfiltered_word.split('\\t')\n",
    "                        sentence.append(Word(   filtered_word[0],\n",
    "                                                filtered_word[1],\n",
    "                                                filtered_word[2],\n",
    "                                                filtered_word[3]))\n",
    "                if sentence is not []:\n",
    "                    sentence.insert(0, Word(\"<s>\", \"Bidu\", \"null\", \"null\"))\n",
    "                    sentences.append(sentence)\n",
    "    return sentences"
   ]
  },
  {
   "cell_type": "code",
   "execution_count": 7,
   "outputs": [],
   "source": [
    "# corp = CorpusAsListOfLists()\n",
    "# rows = len(corp)\n",
    "# print(rows)\n",
    "# cols = 0\n",
    "# for sentence in corp:\n",
    "#     if len(sentence) > cols:\n",
    "#         cols = len(sentence)\n",
    "# print(cols)"
   ],
   "metadata": {
    "collapsed": false,
    "pycharm": {
     "name": "#%%\n"
    }
   }
  },
  {
   "cell_type": "code",
   "execution_count": 8,
   "outputs": [],
   "source": [
    "# sen = Sentence([Word(\"lewwel\", \"2\", \"3\", \"4\"), Word(\"lewwel\", \"2\", \"3\", \"4\"), Word(\"Tielet\", \"2\", \"3\", \"4\"), Word(\"Raba\", \"2\", \"3\", \"4\")])\n",
    "# sen2 = Sentence([Word(\"Hames\", \"2\", \"3\", \"4\"), Word(\"Sitt\", \"2\", \"3\", \"4\"), Word(\"Tielet\", \"2\", \"3\", \"4\"), Word(\"Seba\", \"2\", \"3\", \"4\")])\n",
    "# sen3 = Sentence([Word(\"lewwel\", \"2\", \"3\", \"4\"), Word(\"lewwel\", \"2\", \"3\", \"4\"), Word(\"Sitt\", \"2\", \"3\", \"4\"), Word(\"Tielet\", \"2\", \"3\", \"4\")])\n",
    "sen = Sentence([Word(\"lewwel\", \"2\", \"3\", \"4\"), Word(\"lewwel\", \"2\", \"3\", \"4\")])\n",
    "sen2 = Sentence([Word(\"lewwel\", \"2\", \"3\", \"4\"), Word(\"lewwel\", \"2\", \"3\", \"4\")])\n",
    "sen3 = Sentence([Word(\"lewwel\", \"2\", \"3\", \"4\"), Word(\"lewwel\", \"2\", \"3\", \"4\")])\n",
    "\n",
    "test = [sen, sen2, sen3]\n",
    "cols = 7\n"
   ],
   "metadata": {
    "collapsed": false,
    "pycharm": {
     "name": "#%%\n"
    }
   }
  },
  {
   "cell_type": "code",
   "execution_count": 9,
   "outputs": [],
   "source": [
    "# prepare [sentences] into cols x rows encoded tensor\n",
    "def _CorpusToEncodedTensor(corpus, cols, n=2, limit=None, til=True):\n",
    "    local_corpus = [s for s in corpus if len(s.words) >= n]\n",
    "\n",
    "    if limit is None and til is not True:\n",
    "        raise Exception(\"Cannot access index: None\")\n",
    "    elif limit is None and til is True:\n",
    "        limit = len(local_corpus)\n",
    "    elif limit is not None and til is True:\n",
    "        local_corpus = local_corpus[:(limit+1)]\n",
    "    elif limit is not None and til is not True:\n",
    "        local_corpus = [local_corpus[limit]]\n",
    "\n",
    "    encoded = []\n",
    "    for sentence in local_corpus:\n",
    "        e = [w.__hash__() for w in sentence]\n",
    "        difference = cols - len(e)\n",
    "        e += [0] * difference\n",
    "        encoded.append(e)\n",
    "\n",
    "    return encoded"
   ],
   "metadata": {
    "collapsed": false,
    "pycharm": {
     "name": "#%%\n"
    }
   }
  },
  {
   "cell_type": "code",
   "execution_count": 12,
   "outputs": [
    {
     "name": "stdout",
     "output_type": "stream",
     "text": [
      "2082033469120 3\n",
      "2082033468688 3\n"
     ]
    }
   ],
   "source": [
    "def ConvNGram(corpus, n=2, limit=None, til=True):\n",
    "    local_corpus = [s for s in corpus if len(s.words) >= n]\n",
    "\n",
    "    if limit is None and til is not True:\n",
    "        raise Exception(\"Cannot access index: None\")\n",
    "    elif limit is None and til is True:\n",
    "        limit = len(local_corpus)\n",
    "    elif limit is not None and til is True:\n",
    "        local_corpus = local_corpus[:(limit+1)]\n",
    "    elif limit is not None and til is not True:\n",
    "        local_corpus = [local_corpus[limit]]\n",
    "\n",
    "    encoded = torch.tensor(_CorpusToEncodedTensor(local_corpus, cols))\n",
    "    frequencies = {}\n",
    "    empty = torch.tensor([0] * n)\n",
    "    sentence_done = False\n",
    "    found = False\n",
    "\n",
    "    for sentence in encoded:\n",
    "        for i in range((len(sentence)-n)):\n",
    "            seq = sentence[i:i+n]\n",
    "            seq_hash = seq.__hash__()\n",
    "            if seq.equal(empty):\n",
    "                sentence_done = True\n",
    "                break\n",
    "\n",
    "            if seq_hash not in frequencies.keys():\n",
    "                frequencies[seq_hash] = 0\n",
    "\n",
    "            frequencies[seq_hash] = frequencies[seq_hash] + 1\n",
    "\n",
    "        if sentence_done:\n",
    "            sentence_done = False\n",
    "            continue\n",
    "\n",
    "    return frequencies\n",
    "\n",
    "ngram = ConvNGram(test)\n",
    "for key in ngram:\n",
    "    print(str(key) +\" \"+ str(ngram.get(key)))\n"
   ],
   "metadata": {
    "collapsed": false,
    "pycharm": {
     "name": "#%%\n"
    }
   }
  }
 ],
 "metadata": {
  "kernelspec": {
   "display_name": "Python 3",
   "language": "python",
   "name": "python3"
  },
  "language_info": {
   "codemirror_mode": {
    "name": "ipython",
    "version": 3
   },
   "file_extension": ".py",
   "mimetype": "text/x-python",
   "name": "python",
   "nbconvert_exporter": "python",
   "pygments_lexer": "ipython3",
   "version": "3.7.1"
  }
 },
 "nbformat": 4,
 "nbformat_minor": 1
}