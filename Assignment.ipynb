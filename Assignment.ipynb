{
 "cells": [
  {
   "cell_type": "code",
   "execution_count": 1,
   "metadata": {},
   "outputs": [],
   "source": [
    "import pandas as pd\n",
    "from lxml import etree\n",
    "import re\n",
    "from tqdm.notebook import tqdm"
   ]
  },
  {
   "cell_type": "code",
   "execution_count": 2,
   "metadata": {
    "pycharm": {
     "name": "#%%\n"
    }
   },
   "outputs": [],
   "source": [
    "# Create functions to free memory once function scope is left\n",
    "def _readCorpus(corpus=\"Corpus/\", files=None ):\n",
    "    if files is None:\n",
    "        files = [\"malti03.parl.1.txt\",\n",
    "                 \"malti03.parl.2.txt\",\n",
    "                 \"malti03.parl.3.txt\",\n",
    "                 \"malti03.parl.4.txt\",\n",
    "                 \"malti03.parl.5.txt\"]\n",
    "    xml_data = []\n",
    "    for file in tqdm(files, desc='Reading Files'):\n",
    "        xml_data.append(open(corpus+file, 'r', encoding='utf8').read())  # Read file\n",
    "    return xml_data"
   ]
  },
  {
   "cell_type": "code",
   "execution_count": 3,
   "metadata": {
    "pycharm": {
     "name": "#%%\n"
    }
   },
   "outputs": [],
   "source": [
    "def _ParseAsXML():\n",
    "    parser = etree.XMLParser(recover=True)\n",
    "    roots = []\n",
    "    xml_data = _readCorpus()\n",
    "    for xml in tqdm(xml_data, desc='Parsing XML'):\n",
    "        roots.append(etree.fromstring(xml, parser=parser))\n",
    "    return roots"
   ]
  },
  {
   "cell_type": "code",
   "execution_count": 4,
   "outputs": [],
   "source": [
    "# Define a word class with some functionality\n",
    "class Word:\n",
    "    def __init__(self, kelma, tip, mamma, gherq):\n",
    "        self.kelma = kelma\n",
    "        self.tip = tip\n",
    "        self.mamma = mamma\n",
    "        self.gherq = gherq\n",
    "\n",
    "    def __str__(self):\n",
    "        return  'Kelma: ' + self.kelma + '\\n' + \\\n",
    "                'tip: ' + self.tip + '\\n' + \\\n",
    "                'mamma: ' + self.mamma + '\\n' + \\\n",
    "                'gherq: ' + self.gherq\n",
    "\n",
    "    def __iter__(self):\n",
    "        for each in self.__dict__.values():\n",
    "            yield each\n",
    "\n",
    "    def __getitem__(self, index):\n",
    "        if index < 4:\n",
    "            return list(self.__dict__.values())[index]\n",
    "        else:\n",
    "            raise IndexError('Max index is 3')"
   ],
   "metadata": {
    "collapsed": false,
    "pycharm": {
     "name": "#%%\n"
    }
   }
  },
  {
   "cell_type": "code",
   "execution_count": 7,
   "outputs": [],
   "source": [
    "# Define Sentence class with some functionality\n",
    "class Sentence:\n",
    "    def __init__(self, words=None):\n",
    "        if words is None:\n",
    "            words = []\n",
    "        self.words = words\n",
    "\n",
    "    def __str__(self):\n",
    "        s = ''\n",
    "        for word in self.words:\n",
    "            s += word.kelma + \" \"\n",
    "        return s\n",
    "\n",
    "    def __iter__(self):\n",
    "        for word in self.words:\n",
    "            yield word\n",
    "\n",
    "    def __getitem__(self, index):\n",
    "        return self.words[index]\n",
    "\n",
    "    def append(self, word: Word):\n",
    "        self.words.append(word)"
   ],
   "metadata": {
    "collapsed": false,
    "pycharm": {
     "name": "#%%\n"
    }
   }
  },
  {
   "cell_type": "code",
   "execution_count": 8,
   "metadata": {
    "pycharm": {
     "name": "#%%\n"
    }
   },
   "outputs": [
    {
     "data": {
      "text/plain": "Reading Files:   0%|          | 0/5 [00:00<?, ?it/s]",
      "application/vnd.jupyter.widget-view+json": {
       "version_major": 2,
       "version_minor": 0,
       "model_id": "e9a04340036b4b0192a58859f8794989"
      }
     },
     "metadata": {},
     "output_type": "display_data"
    },
    {
     "name": "stdout",
     "output_type": "stream",
     "text": [
      "--- 8.114623785018921 seconds ---\n",
      "--- 16.89559268951416 seconds ---\n",
      "--- 0.4140005111694336 seconds ---\n"
     ]
    },
    {
     "data": {
      "text/plain": "Parsing XML:   0%|          | 0/5 [00:00<?, ?it/s]",
      "application/vnd.jupyter.widget-view+json": {
       "version_major": 2,
       "version_minor": 0,
       "model_id": "84499145b2d84b16bbf51ce416ff1126"
      }
     },
     "metadata": {},
     "output_type": "display_data"
    },
    {
     "data": {
      "text/plain": "XML File:   0%|          | 0/5 [00:00<?, ?it/s]",
      "application/vnd.jupyter.widget-view+json": {
       "version_major": 2,
       "version_minor": 0,
       "model_id": "ede8d4ec187d483b8bdff640cccb4370"
      }
     },
     "metadata": {},
     "output_type": "display_data"
    },
    {
     "data": {
      "text/plain": "Paragraph: 0it [00:00, ?it/s]",
      "application/vnd.jupyter.widget-view+json": {
       "version_major": 2,
       "version_minor": 0,
       "model_id": "9f1da23c5ed141148ada0c25185ef320"
      }
     },
     "metadata": {},
     "output_type": "display_data"
    },
    {
     "data": {
      "text/plain": "Paragraph: 0it [00:00, ?it/s]",
      "application/vnd.jupyter.widget-view+json": {
       "version_major": 2,
       "version_minor": 0,
       "model_id": "92b76433689f447792baae3a332462e6"
      }
     },
     "metadata": {},
     "output_type": "display_data"
    },
    {
     "data": {
      "text/plain": "Paragraph: 0it [00:00, ?it/s]",
      "application/vnd.jupyter.widget-view+json": {
       "version_major": 2,
       "version_minor": 0,
       "model_id": "c024e98436ed47bc8e0b85c470c341b7"
      }
     },
     "metadata": {},
     "output_type": "display_data"
    },
    {
     "data": {
      "text/plain": "Paragraph: 0it [00:00, ?it/s]",
      "application/vnd.jupyter.widget-view+json": {
       "version_major": 2,
       "version_minor": 0,
       "model_id": "c44093c3f422475789fdd17fb845b9f1"
      }
     },
     "metadata": {},
     "output_type": "display_data"
    },
    {
     "data": {
      "text/plain": "Paragraph: 0it [00:00, ?it/s]",
      "application/vnd.jupyter.widget-view+json": {
       "version_major": 2,
       "version_minor": 0,
       "model_id": "edaf778872304f908ce16775b4ab92a2"
      }
     },
     "metadata": {},
     "output_type": "display_data"
    }
   ],
   "source": [
    "# Mention garbage collection effort and try outs for pd and numpy and why i settled with list of lists (pd matrix, list of lists no)\n",
    "def CorpusAsListOfLists():\n",
    "    roots = _ParseAsXML()\n",
    "    sentences = []\n",
    "    for root in tqdm(roots, desc='XML File'):\n",
    "        for i, p in tqdm(enumerate(root), desc='Paragraph'):\n",
    "            for k, s in enumerate(p):\n",
    "                unfiltered_sentence = re.split(r'\\n', s.text.lstrip('\\n'))\n",
    "                sentence = Sentence()\n",
    "                for unfiltered_word in unfiltered_sentence:\n",
    "                    if unfiltered_word is not \"\":\n",
    "                        filtered_word = unfiltered_word.split('\\t')\n",
    "                        sentence.append(Word(   filtered_word[0],\n",
    "                                                filtered_word[1],\n",
    "                                                filtered_word[2],\n",
    "                                                filtered_word[3]))\n",
    "                if sentence is not []:\n",
    "                    sentences.append(sentence)\n",
    "    return sentences\n",
    "\n",
    "corp = CorpusAsListOfLists()"
   ]
  },
  {
   "cell_type": "code",
   "execution_count": 19,
   "outputs": [
    {
     "name": "stdout",
     "output_type": "stream",
     "text": [
      "                                           0    \\\n",
      "0  Kelma: 1\\ntip: X-DIG\\nmamma: 1\\ngherq: null   \n",
      "\n",
      "                                           1     2     3     4     5     6    \\\n",
      "0  Kelma: .\\ntip: X-PUN\\nmamma: .\\ngherq: null  None  None  None  None  None   \n",
      "\n",
      "    7     8     9    ...   136   137   138   139   140   141   142   143  \\\n",
      "0  None  None  None  ...  None  None  None  None  None  None  None  None   \n",
      "\n",
      "    144   145  \n",
      "0  None  None  \n",
      "\n",
      "[1 rows x 146 columns]\n",
      "(3408, 146)\n",
      "2 . \n",
      "3408\n"
     ]
    }
   ],
   "source": [
    "df = pd.DataFrame(corp)\n",
    "print(df.head(5))\n",
    "print(df.shape)\n",
    "for i in range(5):\n",
    "    print(corp[i])\n",
    "print(len(corp))\n",
    "del df"
   ],
   "metadata": {
    "collapsed": false,
    "pycharm": {
     "name": "#%%\n"
    }
   }
  },
  {
   "cell_type": "code",
   "execution_count": null,
   "outputs": [],
   "source": [
    "def SequenceFrequency(corpus, n=2, limit=None, til=True):\n",
    "    # remove sentences in corpus with length < n\n",
    "    local_corpus = [s for s in corpus if len(s.words) >= n]\n",
    "\n",
    "    if limit is None :\n",
    "        limit = len(local_corpus)\n",
    "    # Start by getting frequency of (n - 1) sized sequence is first sequence in a given sentence\n",
    "    \n",
    "\n",
    "def ngram(corpus, n=2, limit=None, til=True):\n",
    "    # remove sentences in corpus with length < n\n",
    "    local_corpus = [s for s in corpus if len(s.words) >= n]\n",
    "\n",
    "    if limit is None :\n",
    "        limit = len(local_corpus)"
   ],
   "metadata": {
    "collapsed": false,
    "pycharm": {
     "name": "#%%\n"
    }
   }
  },
  {
   "cell_type": "code",
   "execution_count": null,
   "metadata": {},
   "outputs": [],
   "source": []
  }
 ],
 "metadata": {
  "kernelspec": {
   "display_name": "Python 3",
   "language": "python",
   "name": "python3"
  },
  "language_info": {
   "codemirror_mode": {
    "name": "ipython",
    "version": 3
   },
   "file_extension": ".py",
   "mimetype": "text/x-python",
   "name": "python",
   "nbconvert_exporter": "python",
   "pygments_lexer": "ipython3",
   "version": "3.7.1"
  }
 },
 "nbformat": 4,
 "nbformat_minor": 1
}