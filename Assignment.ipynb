{
 "cells": [
  {
   "cell_type": "code",
   "execution_count": 1,
   "metadata": {
    "collapsed": true
   },
   "outputs": [],
   "source": [
    "import pandas as pd\n",
    "from lxml import etree\n",
    "import re"
   ]
  },
  {
   "cell_type": "code",
   "execution_count": 2,
   "outputs": [],
   "source": [
    "corpus = \"Corpus/\"\n",
    "files = [\"malti03.parl.1.txt\",\n",
    "         \"malti03.parl.2.txt\",\n",
    "         \"malti03.parl.3.txt\",\n",
    "         \"malti03.parl.4.txt\",\n",
    "         \"malti03.parl.5.txt\"]\n",
    "xml_data = []\n",
    "for file in files:\n",
    "    xml_data.append(open(corpus+file, 'r', encoding='utf8').read())  # Read file"
   ],
   "metadata": {
    "collapsed": false,
    "pycharm": {
     "name": "#%%\n"
    }
   }
  },
  {
   "cell_type": "code",
   "execution_count": 3,
   "outputs": [],
   "source": [
    "parser = etree.XMLParser(recover=True)\n",
    "roots = []\n",
    "for xml in xml_data:\n",
    "    roots.append(etree.fromstring(xml, parser=parser))\n",
    "# added root"
   ],
   "metadata": {
    "collapsed": false,
    "pycharm": {
     "name": "#%%\n"
    }
   }
  },
  {
   "cell_type": "code",
   "execution_count": 5,
   "outputs": [],
   "source": [
    "sentences = []\n",
    "for root in roots:\n",
    "    for i, p in enumerate(root):\n",
    "        for k, s in enumerate(p):\n",
    "            unfiltered_sentence = re.split(r'\\n', s.text.lstrip('\\n'))\n",
    "            sentence = []\n",
    "            for unfiltered_word in unfiltered_sentence:\n",
    "                if unfiltered_word is not \"\":\n",
    "                    filtered_word = unfiltered_word.split('\\t')\n",
    "                    sentence.append({'Kelma':filtered_word[0],\n",
    "                                     'Tip':filtered_word[1],\n",
    "                                     'Mamma':filtered_word[2],\n",
    "                                     'Gherq':filtered_word[3]})\n",
    "            if sentence is not []:\n",
    "                sentences.append(sentence)\n",
    "# df = pd.DataFrame([x.split('\\t') for x in data], columns=['Kelma', 'Tip', 'Mamma', 'Gherq'])\n",
    "# print(df.head(5))\n"
   ],
   "metadata": {
    "collapsed": false,
    "pycharm": {
     "name": "#%%\n"
    }
   }
  }
 ],
 "metadata": {
  "kernelspec": {
   "display_name": "Python 3",
   "language": "python",
   "name": "python3"
  },
  "language_info": {
   "codemirror_mode": {
    "name": "ipython",
    "version": 2
   },
   "file_extension": ".py",
   "mimetype": "text/x-python",
   "name": "python",
   "nbconvert_exporter": "python",
   "pygments_lexer": "ipython2",
   "version": "2.7.6"
  }
 },
 "nbformat": 4,
 "nbformat_minor": 0
}