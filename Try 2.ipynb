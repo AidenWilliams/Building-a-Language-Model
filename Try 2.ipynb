{
 "cells": [
  {
   "cell_type": "code",
   "execution_count": 1,
   "metadata": {
    "collapsed": true
   },
   "outputs": [],
   "source": [
    "from lxml import etree\n",
    "import re\n",
    "from tqdm.notebook import tqdm\n",
    "from itertools import combinations\n",
    "import os"
   ]
  },
  {
   "cell_type": "code",
   "execution_count": 2,
   "metadata": {
    "pycharm": {
     "name": "#%%\n"
    }
   },
   "outputs": [],
   "source": [
    "class Word(object):\n",
    "    def __init__(self, kelma, tip, mamma, gherq):\n",
    "        self.kelma = kelma\n",
    "        self.tip = tip\n",
    "        self.mamma = mamma\n",
    "        self.gherq = gherq\n",
    "\n",
    "    def __str__(self):\n",
    "        return  self.kelma\n",
    "\n",
    "    def __repr__(self): # remove\n",
    "        return self.kelma\n",
    "\n",
    "    def __iter__(self):\n",
    "        for each in self.__dict__.values():\n",
    "            yield each\n",
    "\n",
    "    def __getitem__(self, index):\n",
    "        if index < 4:\n",
    "            return list(self.__dict__.values())[index]\n",
    "        else:\n",
    "            raise IndexError('Max index is 3')\n",
    "\n",
    "    def __eq__(self, word):\n",
    "        return  self.kelma == word.kelma and \\\n",
    "                self.tip == word.tip and \\\n",
    "                self.mamma == word.mamma and \\\n",
    "                self.gherq == word.gherq\n",
    "\n",
    "    def __ne__(self, word):\n",
    "        return not self == word\n",
    "\n",
    "    def __hash__(self):\n",
    "        return hash((self.kelma, self.tip, self.mamma, self.gherq))"
   ]
  },
  {
   "cell_type": "code",
   "execution_count": 3,
   "metadata": {
    "pycharm": {
     "name": "#%%\n"
    }
   },
   "outputs": [],
   "source": [
    "# Define Sentence class with some functionality\n",
    "class Sentence(object):\n",
    "    def __init__(self, words=None):\n",
    "        if words is None:\n",
    "            words = []\n",
    "        self.words = words\n",
    "\n",
    "    def __str__(self):\n",
    "        s = ''\n",
    "        for word in self.words:\n",
    "            s += word.kelma + \" \"\n",
    "        return s\n",
    "\n",
    "    def __repr__(self):\n",
    "        return self.__str__()\n",
    "\n",
    "    def __iter__(self):\n",
    "        for word in self.words:\n",
    "            yield word\n",
    "\n",
    "    def __getitem__(self, index):\n",
    "        return self.words[index]\n",
    "\n",
    "    def append(self, word: Word):\n",
    "        self.words.append(word)\n",
    "\n",
    "    def insert(self,index, word: Word):\n",
    "        self.words.insert(index, word)\n",
    "\n",
    "    def __eq__(self, sentence):\n",
    "        for w1, w2 in self, sentence:\n",
    "            if w1 != w2:\n",
    "                return False\n",
    "        return True\n",
    "\n",
    "    def __ne__(self, sentence):\n",
    "        return not self != sentence\n",
    "\n",
    "    def __len__(self):\n",
    "        return len(self.words)\n"
   ]
  },
  {
   "cell_type": "code",
   "execution_count": 4,
   "metadata": {
    "pycharm": {
     "name": "#%%\n"
    }
   },
   "outputs": [
    {
     "data": {
      "text/plain": "Reading Files:   0%|          | 0/1 [00:00<?, ?it/s]",
      "application/vnd.jupyter.widget-view+json": {
       "version_major": 2,
       "version_minor": 0,
       "model_id": "97544b9c13df44aea957eef6403a4836"
      }
     },
     "metadata": {},
     "output_type": "display_data"
    },
    {
     "data": {
      "text/plain": "Parsing XML:   0%|          | 0/1 [00:00<?, ?it/s]",
      "application/vnd.jupyter.widget-view+json": {
       "version_major": 2,
       "version_minor": 0,
       "model_id": "0c932fb941e34d7c84ec147303a799b7"
      }
     },
     "metadata": {},
     "output_type": "display_data"
    },
    {
     "data": {
      "text/plain": "XML File:   0%|          | 0/1 [00:00<?, ?it/s]",
      "application/vnd.jupyter.widget-view+json": {
       "version_major": 2,
       "version_minor": 0,
       "model_id": "a5a342de137741c492b63dbfe5cc774a"
      }
     },
     "metadata": {},
     "output_type": "display_data"
    },
    {
     "data": {
      "text/plain": "Paragraph: 0it [00:00, ?it/s]",
      "application/vnd.jupyter.widget-view+json": {
       "version_major": 2,
       "version_minor": 0,
       "model_id": "0d8ff5d34cd14e31b62fc40b6de12b13"
      }
     },
     "metadata": {},
     "output_type": "display_data"
    },
    {
     "data": {
      "text/plain": "Counting x counts:   0%|          | 0/1 [00:00<?, ?it/s]",
      "application/vnd.jupyter.widget-view+json": {
       "version_major": 2,
       "version_minor": 0,
       "model_id": "9872fd2d14c6467b8e84cf090956e6fd"
      }
     },
     "metadata": {},
     "output_type": "display_data"
    },
    {
     "data": {
      "text/plain": "Counting x counts:   0%|          | 0/1 [00:00<?, ?it/s]",
      "application/vnd.jupyter.widget-view+json": {
       "version_major": 2,
       "version_minor": 0,
       "model_id": "064d9c1fb8fb4eccafc26aeed1df3288"
      }
     },
     "metadata": {},
     "output_type": "display_data"
    },
    {
     "data": {
      "text/plain": "Counting x counts:   0%|          | 0/1 [00:00<?, ?it/s]",
      "application/vnd.jupyter.widget-view+json": {
       "version_major": 2,
       "version_minor": 0,
       "model_id": "93e50d5aaded4f298456ec7c2567b74f"
      }
     },
     "metadata": {},
     "output_type": "display_data"
    },
    {
     "data": {
      "text/plain": "Counting x counts:   0%|          | 0/1 [00:00<?, ?it/s]",
      "application/vnd.jupyter.widget-view+json": {
       "version_major": 2,
       "version_minor": 0,
       "model_id": "1acc9205c6a44555a086c780e9686f48"
      }
     },
     "metadata": {},
     "output_type": "display_data"
    },
    {
     "data": {
      "text/plain": "Counting x counts:   0%|          | 0/1 [00:00<?, ?it/s]",
      "application/vnd.jupyter.widget-view+json": {
       "version_major": 2,
       "version_minor": 0,
       "model_id": "7e3fcaadb0c843a3b76a9528f2596f11"
      }
     },
     "metadata": {},
     "output_type": "display_data"
    },
    {
     "data": {
      "text/plain": "Counting x counts:   0%|          | 0/1 [00:00<?, ?it/s]",
      "application/vnd.jupyter.widget-view+json": {
       "version_major": 2,
       "version_minor": 0,
       "model_id": "5e5b506810a94abcb7eaf13ff96f522d"
      }
     },
     "metadata": {},
     "output_type": "display_data"
    },
    {
     "data": {
      "text/plain": "Counting x counts:   0%|          | 0/1 [00:00<?, ?it/s]",
      "application/vnd.jupyter.widget-view+json": {
       "version_major": 2,
       "version_minor": 0,
       "model_id": "ffed1f6f93a046f5b3a1b5d80984da80"
      }
     },
     "metadata": {},
     "output_type": "display_data"
    },
    {
     "data": {
      "text/plain": "Counting x counts:   0%|          | 0/1 [00:00<?, ?it/s]",
      "application/vnd.jupyter.widget-view+json": {
       "version_major": 2,
       "version_minor": 0,
       "model_id": "b9e7e383f3e348f4a3d7306581644edf"
      }
     },
     "metadata": {},
     "output_type": "display_data"
    },
    {
     "data": {
      "text/plain": "Counting x counts:   0%|          | 0/1 [00:00<?, ?it/s]",
      "application/vnd.jupyter.widget-view+json": {
       "version_major": 2,
       "version_minor": 0,
       "model_id": "77245320facf42c49c17814c9551221b"
      }
     },
     "metadata": {},
     "output_type": "display_data"
    },
    {
     "data": {
      "text/plain": "Counting x counts:   0%|          | 0/1 [00:00<?, ?it/s]",
      "application/vnd.jupyter.widget-view+json": {
       "version_major": 2,
       "version_minor": 0,
       "model_id": "26d52d3550124bcb9b4d6851886d19c9"
      }
     },
     "metadata": {},
     "output_type": "display_data"
    },
    {
     "data": {
      "text/plain": "Counting x counts:   0%|          | 0/1 [00:00<?, ?it/s]",
      "application/vnd.jupyter.widget-view+json": {
       "version_major": 2,
       "version_minor": 0,
       "model_id": "d4488c38de3640108727a41a105b7ef1"
      }
     },
     "metadata": {},
     "output_type": "display_data"
    },
    {
     "data": {
      "text/plain": "Counting x counts:   0%|          | 0/1 [00:00<?, ?it/s]",
      "application/vnd.jupyter.widget-view+json": {
       "version_major": 2,
       "version_minor": 0,
       "model_id": "467bed325a974edab1a6c417dd1560c1"
      }
     },
     "metadata": {},
     "output_type": "display_data"
    },
    {
     "data": {
      "text/plain": "Counting x counts:   0%|          | 0/1 [00:00<?, ?it/s]",
      "application/vnd.jupyter.widget-view+json": {
       "version_major": 2,
       "version_minor": 0,
       "model_id": "91951dc653184d64a69a7f9a7aed9944"
      }
     },
     "metadata": {},
     "output_type": "display_data"
    },
    {
     "data": {
      "text/plain": "Counting x counts:   0%|          | 0/1 [00:00<?, ?it/s]",
      "application/vnd.jupyter.widget-view+json": {
       "version_major": 2,
       "version_minor": 0,
       "model_id": "d311c32e515f401980db45f523fe5bf3"
      }
     },
     "metadata": {},
     "output_type": "display_data"
    },
    {
     "data": {
      "text/plain": "Counting x counts:   0%|          | 0/1 [00:00<?, ?it/s]",
      "application/vnd.jupyter.widget-view+json": {
       "version_major": 2,
       "version_minor": 0,
       "model_id": "51fe395ba10142a6a7f0ae88d3786ad4"
      }
     },
     "metadata": {},
     "output_type": "display_data"
    },
    {
     "data": {
      "text/plain": "Counting x counts:   0%|          | 0/1 [00:00<?, ?it/s]",
      "application/vnd.jupyter.widget-view+json": {
       "version_major": 2,
       "version_minor": 0,
       "model_id": "f7b4afb2a5a149a4ac92e23564a36ec8"
      }
     },
     "metadata": {},
     "output_type": "display_data"
    },
    {
     "data": {
      "text/plain": "Counting x counts:   0%|          | 0/1 [00:00<?, ?it/s]",
      "application/vnd.jupyter.widget-view+json": {
       "version_major": 2,
       "version_minor": 0,
       "model_id": "047e7aee9784443f854b2989a54273e5"
      }
     },
     "metadata": {},
     "output_type": "display_data"
    },
    {
     "data": {
      "text/plain": "Counting x counts:   0%|          | 0/1 [00:00<?, ?it/s]",
      "application/vnd.jupyter.widget-view+json": {
       "version_major": 2,
       "version_minor": 0,
       "model_id": "eed8af0d743b44cf86ac4ef505a44040"
      }
     },
     "metadata": {},
     "output_type": "display_data"
    }
   ],
   "source": [
    "class Corpus(object):\n",
    "    def __init__(self, corpus=None, directory=\"Corpus/\"):\n",
    "        if corpus is None:\n",
    "            self._corpus = self._CorpusAsListOfSentences(directory)\n",
    "        else:\n",
    "            self._corpus = corpus\n",
    "        self._ngrams = {}\n",
    "        self._ngrams[1] = self.NGram(n=1)\n",
    "        self._models = {}\n",
    "        self._models = self.Model(n=1)\n",
    "\n",
    "    def __len__(self):\n",
    "        return len(self._corpus)\n",
    "\n",
    "    def __iter__(self):\n",
    "        for word in self._corpus:\n",
    "            yield word\n",
    "\n",
    "    def __getitem__(self, index):\n",
    "        return self._corpus[index]\n",
    "\n",
    "    # Create functions to free memory once function scope is left\n",
    "    @staticmethod\n",
    "    def _readCorpus(root=\"Corpus/\"):\n",
    "        if not os.access(root, os.R_OK):\n",
    "            print(\"Check root!!\")\n",
    "\n",
    "        xml_data = []\n",
    "\n",
    "        for file in tqdm(os.listdir(root), desc='Reading Files'):\n",
    "            xml_data.append(open(os.path.join(root, file), 'r', encoding='utf8').read())  # Read file\n",
    "        return xml_data\n",
    "\n",
    "    @staticmethod\n",
    "    def _ParseAsXML(root=\"Corpus/\"):\n",
    "        parser = etree.XMLParser(recover=True)\n",
    "        roots = []\n",
    "        xml_data = Corpus._readCorpus(root)\n",
    "        for xml in tqdm(xml_data, desc='Parsing XML'):\n",
    "            roots.append(etree.fromstring(xml, parser=parser))\n",
    "        return roots\n",
    "\n",
    "    # Mention garbage collection effort and try outs for pd and numpy and why i settled with list of lists (pd matrix, list of lists no)\n",
    "    @staticmethod\n",
    "    def _CorpusAsListOfSentences(root=\"Corpus/\"):\n",
    "        roots = Corpus._ParseAsXML(root)\n",
    "        sentences = []\n",
    "        for root in tqdm(roots, desc='XML File'):\n",
    "            for i, p in tqdm(enumerate(root), desc='Paragraph'):\n",
    "                for k, s in enumerate(p):\n",
    "                    unfiltered_sentence = re.split(r'\\n', s.text.lstrip('\\n'))\n",
    "                    sentence = Sentence()\n",
    "                    for unfiltered_word in unfiltered_sentence:\n",
    "                        if unfiltered_word is not \"\":\n",
    "                            filtered_word = unfiltered_word.split('\\t')\n",
    "                            sentence.append(Word(   filtered_word[0],\n",
    "                                                    filtered_word[1],\n",
    "                                                    filtered_word[2],\n",
    "                                                    filtered_word[3]))\n",
    "                    if sentence is not []:\n",
    "                        sentence.insert(0, Word(\"<s>\", \"Bidu\", \"null\", \"null\"))\n",
    "                        sentences.append(sentence)\n",
    "                        sentence.append(Word(\"</s>\", \"Tmiem\", \"null\", \"null\"))\n",
    "        return sentences\n",
    "\n",
    "    def X_Counts(self, n, laplace=0):\n",
    "        x_counts = {}\n",
    "        for s in tqdm(self, desc='Counting x counts'):\n",
    "            for i in range(len(s) + 1):\n",
    "                if i < n:\n",
    "                    continue\n",
    "                count = []\n",
    "                for x in range(n,0,-1):\n",
    "                    count.append(s[i - x])\n",
    "                count = tuple(count)\n",
    "\n",
    "                if count in x_counts:\n",
    "                    x_counts[count] += (1 + laplace)\n",
    "                else:\n",
    "                    x_counts[count] = (1 + laplace)\n",
    "        return x_counts\n",
    "\n",
    "    def NGram(self, n=2, model=\"vanilla\", replace=False):\n",
    "        if n < 1:\n",
    "            raise Exception(\"Unigrams and up are supported, otherwise no.\")\n",
    "\n",
    "        if model != \"vanilla\" and \\\n",
    "            model != \"laplace\" and \\\n",
    "            model != \"unk\":\n",
    "            raise Exception(\"Only 'vanilla'/'laplace'/'unk' models are supported.\")\n",
    "\n",
    "        if not replace:\n",
    "            if n in self._ngrams:\n",
    "                if  self._ngrams[n][\"flags\"][\"model\"] == model:\n",
    "                    return self._ngrams[n]\n",
    "            if n not in self._ngrams:\n",
    "                replace = True\n",
    "\n",
    "\n",
    "        laplace = 0\n",
    "\n",
    "        if model == \"laplace\":\n",
    "            laplace = 1\n",
    "        x_counts = self.X_Counts(n=n, laplace=laplace)\n",
    "\n",
    "        if model == \"unk\":\n",
    "            _count = self.X_Counts(1)\n",
    "            tc = []\n",
    "            for s in self:\n",
    "                ts = []\n",
    "                for w in s:\n",
    "                    if _count[tuple([w])] < 3:\n",
    "                        ts.append(Word(\"UNK\", \"UNK\", \"null\", \"null\"))\n",
    "                    else:\n",
    "                        ts.append(w)\n",
    "                tc.append(ts)\n",
    "\n",
    "            temp = Corpus(corpus=tc)\n",
    "            x_counts = temp.X_Counts(n=n, laplace=laplace)\n",
    "\n",
    "\n",
    "        gram = {}\n",
    "        for x in x_counts:\n",
    "            gram[x] = {\"count\":x_counts[x]}\n",
    "\n",
    "        result =    {   \"gram\":gram,\n",
    "                        \"flags\":\n",
    "                        {\n",
    "                            \"model\": model\n",
    "                        }\n",
    "                    }\n",
    "\n",
    "        if replace:\n",
    "            self._ngrams[n] = result\n",
    "            return self._ngrams[n]\n",
    "        else:\n",
    "            return result\n",
    "\n",
    "    def Model(self, n=2, model=\"vanilla\", replace=False):\n",
    "        if n in self._models:\n",
    "            if  self._models[n][\"type\"] == \"model\":\n",
    "                return self._models[n]\n",
    "        if n not in self._models:\n",
    "            replace = True\n",
    "\n",
    "        x_counts = self.NGram(n,model=model,replace=replace)['gram']\n",
    "\n",
    "        probabilities = {}\n",
    "        if n is not 1:\n",
    "            previous = self.NGram(n-1,model=model,replace=replace)['gram']\n",
    "            for x in x_counts:\n",
    "                probabilities[x] = {\"probability\":x_counts[x][\"count\"] / previous[x[1:]][\"count\"]}\n",
    "        else:\n",
    "            N = len([w for s in self for w in s])\n",
    "            for x in x_counts:\n",
    "                probabilities[x] = {\"probability\":x_counts[x][\"count\"] / N}\n",
    "\n",
    "        result = {\"probabilities\": probabilities, \"type\": model}\n",
    "\n",
    "        if replace:\n",
    "            self._models[n] = result\n",
    "            return self._models[n]\n",
    "        else:\n",
    "            return result\n",
    "\n",
    "\n",
    "#http://pages.di.unipi.it/pibiri/papers/NGrams18.pdf\n",
    "\n",
    "corpus = Corpus(directory=\"Test Corpus/\")\n",
    "\n",
    "\n",
    "\n",
    "bigram = corpus.NGram()\n",
    "\n",
    "\n",
    "\n",
    "trigram = corpus.NGram(3)\n",
    "\n",
    "\n",
    "\n",
    "\n",
    "vanilla = corpus.Model(model=\"vanilla\")\n",
    "\n",
    "\n",
    "\n",
    "laplace = corpus.Model(model=\"laplace\")\n",
    "\n",
    "\n",
    "\n",
    "unk = corpus.Model(model=\"unk\")\n"
   ]
  }
 ],
 "metadata": {
  "kernelspec": {
   "display_name": "Python 3",
   "language": "python",
   "name": "python3"
  },
  "language_info": {
   "codemirror_mode": {
    "name": "ipython",
    "version": 3
   },
   "file_extension": ".py",
   "mimetype": "text/x-python",
   "name": "python",
   "nbconvert_exporter": "python",
   "pygments_lexer": "ipython3",
   "version": "3.7.1"
  }
 },
 "nbformat": 4,
 "nbformat_minor": 1
}