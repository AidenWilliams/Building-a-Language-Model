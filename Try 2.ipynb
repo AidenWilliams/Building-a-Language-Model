{
 "cells": [
  {
   "cell_type": "code",
   "execution_count": 1,
   "metadata": {
    "collapsed": true,
    "pycharm": {
     "name": "#%%\n"
    }
   },
   "outputs": [
    {
     "data": {
      "text/plain": "Reading Files:   0%|          | 0/1 [00:00<?, ?it/s]",
      "application/vnd.jupyter.widget-view+json": {
       "version_major": 2,
       "version_minor": 0,
       "model_id": "583ba7558caa4cdd9928488e64fcf524"
      }
     },
     "metadata": {},
     "output_type": "display_data"
    },
    {
     "data": {
      "text/plain": "Parsing XML:   0%|          | 0/1 [00:00<?, ?it/s]",
      "application/vnd.jupyter.widget-view+json": {
       "version_major": 2,
       "version_minor": 0,
       "model_id": "b497234c16244a68939ca750ddca309e"
      }
     },
     "metadata": {},
     "output_type": "display_data"
    },
    {
     "data": {
      "text/plain": "XML File:   0%|          | 0/1 [00:00<?, ?it/s]",
      "application/vnd.jupyter.widget-view+json": {
       "version_major": 2,
       "version_minor": 0,
       "model_id": "01aa84535b9d49af8d44011f24cc9ae9"
      }
     },
     "metadata": {},
     "output_type": "display_data"
    },
    {
     "data": {
      "text/plain": "Paragraph: 0it [00:00, ?it/s]",
      "application/vnd.jupyter.widget-view+json": {
       "version_major": 2,
       "version_minor": 0,
       "model_id": "c8d24c80255341b7b8561ab46779bce6"
      }
     },
     "metadata": {},
     "output_type": "display_data"
    },
    {
     "data": {
      "text/plain": "Counting x counts:   0%|          | 0/1 [00:00<?, ?it/s]",
      "application/vnd.jupyter.widget-view+json": {
       "version_major": 2,
       "version_minor": 0,
       "model_id": "dbe4e768527b43089ea4b3f1d87492a8"
      }
     },
     "metadata": {},
     "output_type": "display_data"
    },
    {
     "data": {
      "text/plain": "Counting x counts:   0%|          | 0/1 [00:00<?, ?it/s]",
      "application/vnd.jupyter.widget-view+json": {
       "version_major": 2,
       "version_minor": 0,
       "model_id": "3507a6c946cc42bfbbfbfa8670d87c95"
      }
     },
     "metadata": {},
     "output_type": "display_data"
    },
    {
     "data": {
      "text/plain": "Counting x counts:   0%|          | 0/1 [00:00<?, ?it/s]",
      "application/vnd.jupyter.widget-view+json": {
       "version_major": 2,
       "version_minor": 0,
       "model_id": "3126b682c3304852b56ff15c5320fe6b"
      }
     },
     "metadata": {},
     "output_type": "display_data"
    },
    {
     "data": {
      "text/plain": "Counting x counts:   0%|          | 0/1 [00:00<?, ?it/s]",
      "application/vnd.jupyter.widget-view+json": {
       "version_major": 2,
       "version_minor": 0,
       "model_id": "242af912a55a4b0780a4ef649e32133f"
      }
     },
     "metadata": {},
     "output_type": "display_data"
    },
    {
     "data": {
      "text/plain": "Counting x counts:   0%|          | 0/1 [00:00<?, ?it/s]",
      "application/vnd.jupyter.widget-view+json": {
       "version_major": 2,
       "version_minor": 0,
       "model_id": "49c3b893191f450e80b4dcf19e37223c"
      }
     },
     "metadata": {},
     "output_type": "display_data"
    },
    {
     "data": {
      "text/plain": "Counting x counts:   0%|          | 0/1 [00:00<?, ?it/s]",
      "application/vnd.jupyter.widget-view+json": {
       "version_major": 2,
       "version_minor": 0,
       "model_id": "8eec8371445e48a9b78bc87244ae5128"
      }
     },
     "metadata": {},
     "output_type": "display_data"
    },
    {
     "data": {
      "text/plain": "Counting x counts:   0%|          | 0/1 [00:00<?, ?it/s]",
      "application/vnd.jupyter.widget-view+json": {
       "version_major": 2,
       "version_minor": 0,
       "model_id": "2711c39992d54bf7adaa15de760c8ae0"
      }
     },
     "metadata": {},
     "output_type": "display_data"
    },
    {
     "data": {
      "text/plain": "Counting x counts:   0%|          | 0/1 [00:00<?, ?it/s]",
      "application/vnd.jupyter.widget-view+json": {
       "version_major": 2,
       "version_minor": 0,
       "model_id": "69327427b50b4549ad578c77aa26bbee"
      }
     },
     "metadata": {},
     "output_type": "display_data"
    },
    {
     "data": {
      "text/plain": "Counting x counts:   0%|          | 0/1 [00:00<?, ?it/s]",
      "application/vnd.jupyter.widget-view+json": {
       "version_major": 2,
       "version_minor": 0,
       "model_id": "7955f45a964b4a9ab59a47799b580136"
      }
     },
     "metadata": {},
     "output_type": "display_data"
    },
    {
     "data": {
      "text/plain": "Counting x counts:   0%|          | 0/1 [00:00<?, ?it/s]",
      "application/vnd.jupyter.widget-view+json": {
       "version_major": 2,
       "version_minor": 0,
       "model_id": "6c51e7b4a2ea42c79b588ae8d5331351"
      }
     },
     "metadata": {},
     "output_type": "display_data"
    },
    {
     "data": {
      "text/plain": "Counting x counts:   0%|          | 0/1 [00:00<?, ?it/s]",
      "application/vnd.jupyter.widget-view+json": {
       "version_major": 2,
       "version_minor": 0,
       "model_id": "3ce9b98f4e61492db34456828d3c322c"
      }
     },
     "metadata": {},
     "output_type": "display_data"
    },
    {
     "data": {
      "text/plain": "Counting x counts:   0%|          | 0/1 [00:00<?, ?it/s]",
      "application/vnd.jupyter.widget-view+json": {
       "version_major": 2,
       "version_minor": 0,
       "model_id": "4d7ed82217b64821bfceb810b658b532"
      }
     },
     "metadata": {},
     "output_type": "display_data"
    },
    {
     "data": {
      "text/plain": "Counting x counts:   0%|          | 0/1 [00:00<?, ?it/s]",
      "application/vnd.jupyter.widget-view+json": {
       "version_major": 2,
       "version_minor": 0,
       "model_id": "e05c1d03b6dd4334b3e837d4948ed121"
      }
     },
     "metadata": {},
     "output_type": "display_data"
    },
    {
     "data": {
      "text/plain": "Counting x counts:   0%|          | 0/1 [00:00<?, ?it/s]",
      "application/vnd.jupyter.widget-view+json": {
       "version_major": 2,
       "version_minor": 0,
       "model_id": "651ae178030d4777895f977d8df0b6d0"
      }
     },
     "metadata": {},
     "output_type": "display_data"
    }
   ],
   "source": [
    "from lxml import etree\n",
    "import re\n",
    "from tqdm.notebook import tqdm\n",
    "from itertools import combinations\n",
    "import os\n",
    "\n",
    "class Model(object):\n",
    "    def __init__(self, corpus, n=2, model=\"vanilla\", replace=False):\n",
    "        x_counts = corpus.NGram(n,model=model,replace=replace)['gram']\n",
    "\n",
    "        probabilities = {}\n",
    "        if n is not 1:\n",
    "            previous = corpus.NGram(n-1,model=model,replace=replace)['gram']\n",
    "            for x in x_counts:\n",
    "                probabilities[x] = {\"probability\":x_counts[x][\"count\"] / previous[x[1:]][\"count\"]}\n",
    "        else:\n",
    "            N = len([w for s in corpus for w in s])\n",
    "            for x in x_counts:\n",
    "                probabilities[x] = {\"probability\":x_counts[x][\"count\"] / N}\n",
    "\n",
    "        self.probabilities = probabilities\n",
    "        self.model = model\n",
    "\n",
    "    def GetProbability(self, forX, givenY:tuple):\n",
    "        # Add input validation\n",
    "        sequence = tuple(forX) + givenY\n",
    "\n",
    "        if sequence in self.probabilities:\n",
    "            return self.probabilities[sequence][\"probability\"]\n",
    "        else:\n",
    "            return 0\n",
    "\n",
    "class Corpus(object):\n",
    "    def __init__(self, corpus=None, directory=\"Corpus/\"):\n",
    "        if corpus is None:\n",
    "            self._corpus = self._CorpusAsListOfSentences(directory)\n",
    "        else:\n",
    "            self._corpus = corpus\n",
    "        self._ngrams = {}\n",
    "        self._ngrams[1] = self.NGram(n=1)\n",
    "        self._models = {}\n",
    "        self._models[1] = self.CreateModel(n=1)\n",
    "\n",
    "    def __len__(self):\n",
    "        return len(self._corpus)\n",
    "\n",
    "    def __iter__(self):\n",
    "        for word in self._corpus:\n",
    "            yield word\n",
    "\n",
    "    def __getitem__(self, index):\n",
    "        return self._corpus[index]\n",
    "\n",
    "    # Create functions to free memory once function scope is left\n",
    "    @staticmethod\n",
    "    def _readCorpus(root=\"Corpus/\"):\n",
    "        if not os.access(root, os.R_OK):\n",
    "            print(\"Check root!!\")\n",
    "\n",
    "        xml_data = []\n",
    "\n",
    "        for file in tqdm(os.listdir(root), desc='Reading Files'):\n",
    "            xml_data.append(open(os.path.join(root, file), 'r', encoding='utf8').read())  # Read file\n",
    "        return xml_data\n",
    "\n",
    "    @staticmethod\n",
    "    def _ParseAsXML(root=\"Corpus/\"):\n",
    "        parser = etree.XMLParser(recover=True)\n",
    "        roots = []\n",
    "        xml_data = Corpus._readCorpus(root)\n",
    "        for xml in tqdm(xml_data, desc='Parsing XML'):\n",
    "            roots.append(etree.fromstring(xml, parser=parser))\n",
    "        return roots\n",
    "\n",
    "    # Mention garbage collection effort and try outs for pd and numpy and why i settled with list of lists (pd matrix, list of lists no)\n",
    "    @staticmethod\n",
    "    def _CorpusAsListOfSentences(root=\"Corpus/\"):\n",
    "        roots = Corpus._ParseAsXML(root)\n",
    "        sentences = []\n",
    "        for root in tqdm(roots, desc='XML File'):\n",
    "            for i, p in tqdm(enumerate(root), desc='Paragraph'):\n",
    "                for k, s in enumerate(p):\n",
    "                    unfiltered_sentence = re.split(r'\\n', s.text.lstrip('\\n'))\n",
    "                    sentence = []\n",
    "                    for unfiltered_word in unfiltered_sentence:\n",
    "                        if unfiltered_word is not \"\":\n",
    "                            filtered_word = unfiltered_word.split('\\t')\n",
    "                            sentence.append(filtered_word[0])\n",
    "                    if sentence is not []:\n",
    "                        sentence.insert(0, \"<s>\")\n",
    "                        sentences.append(sentence)\n",
    "                        sentence.append(\"</s>\")\n",
    "        return sentences\n",
    "\n",
    "    def X_Counts(self, n, laplace=0):\n",
    "        x_counts = {}\n",
    "        for s in tqdm(self, desc='Counting x counts'):\n",
    "            for i in range(len(s) + 1):\n",
    "                if i < n - 1 or i == 0:\n",
    "                    continue\n",
    "                count = []\n",
    "                for x in range(n,0,-1):\n",
    "                    count.append(s[i - x])\n",
    "                count = tuple(count)\n",
    "\n",
    "                if count in x_counts:\n",
    "                    x_counts[count] += 1\n",
    "                else:\n",
    "                    x_counts[count] = 1\n",
    "        if laplace == 1:\n",
    "            for x in x_counts:\n",
    "                x_counts[x] += 1\n",
    "        return x_counts\n",
    "\n",
    "    def NGram(self, n=2, model=\"vanilla\", replace=False):\n",
    "        if n < 1:\n",
    "            raise Exception(\"Unigrams and up are supported, otherwise no.\")\n",
    "\n",
    "        if model != \"vanilla\" and \\\n",
    "            model != \"laplace\" and \\\n",
    "            model != \"unk\":\n",
    "            raise Exception(\"Only 'vanilla'/'laplace'/'unk' models are supported.\")\n",
    "\n",
    "        if not replace:\n",
    "            if n in self._ngrams:\n",
    "                if  self._ngrams[n][\"flags\"][\"model\"] == model:\n",
    "                    return self._ngrams[n]\n",
    "            if n not in self._ngrams:\n",
    "                replace = True\n",
    "\n",
    "\n",
    "        laplace = 0\n",
    "\n",
    "        if model == \"laplace\":\n",
    "            laplace = 1\n",
    "        x_counts = self.X_Counts(n=n, laplace=laplace)\n",
    "\n",
    "        if model == \"unk\":\n",
    "            _count = self.X_Counts(1)\n",
    "            tc = []\n",
    "            for s in self:\n",
    "                ts = []\n",
    "                for w in s:\n",
    "                    if _count[tuple([w])] < 3:\n",
    "                        ts.append(\"UNK\")\n",
    "                    else:\n",
    "                        ts.append(w)\n",
    "                tc.append(ts)\n",
    "\n",
    "            temp = Corpus(corpus=tc)\n",
    "            x_counts = temp.X_Counts(n=n, laplace=laplace)\n",
    "\n",
    "\n",
    "        gram = {}\n",
    "        for x in x_counts:\n",
    "            gram[x] = {\"count\":x_counts[x]}\n",
    "\n",
    "        result =    {   \"gram\":gram,\n",
    "                        \"flags\":\n",
    "                        {\n",
    "                            \"model\": model\n",
    "                        }\n",
    "                    }\n",
    "\n",
    "        if replace:\n",
    "            self._ngrams[n] = result\n",
    "            return self._ngrams[n]\n",
    "        else:\n",
    "            return result\n",
    "\n",
    "    def CreateModel(self, n=2, model=\"vanilla\", replace=False):\n",
    "        if n in self._models:\n",
    "            if  self._models[n].model == model:\n",
    "                return self._models[n]\n",
    "        if n not in self._models:\n",
    "            replace = True\n",
    "\n",
    "        if replace:\n",
    "            self._models[n] = Model(corpus=self,n=n,model=model,replace=replace)\n",
    "            return self._models[n]\n",
    "        else:\n",
    "            return Model(corpus=self,n=n,model=model)\n",
    "\n",
    "\n",
    "#http://pages.di.unipi.it/pibiri/papers/NGrams18.pdf\n",
    "\n",
    "corpus = Corpus(directory=\"Test Corpus/\")\n",
    "#\n",
    "#\n",
    "#\n",
    "# bigram = corpus.NGram()\n",
    "#\n",
    "#\n",
    "#\n",
    "# trigram = corpus.NGram(3)\n",
    "\n",
    "\n",
    "\n",
    "\n",
    "vanilla = corpus.CreateModel()\n",
    "#\n",
    "#\n",
    "#laplace = corpus.CreateModel(model=\"laplace\",replace=True)\n",
    "#\n",
    "#\n",
    "#\n",
    "#\n",
    "unk = corpus.CreateModel(model=\"unk\")\n",
    "# y = tuple([\"b\"])\n",
    "# print(laplace.GetProbability(\"c\",y))\n",
    "\n",
    "# TODO: Create Model Object"
   ]
  }
 ],
 "metadata": {
  "kernelspec": {
   "display_name": "Python 3",
   "language": "python",
   "name": "python3"
  },
  "language_info": {
   "codemirror_mode": {
    "name": "ipython",
    "version": 3
   },
   "file_extension": ".py",
   "mimetype": "text/x-python",
   "name": "python",
   "nbconvert_exporter": "python",
   "pygments_lexer": "ipython3",
   "version": "3.7.1"
  }
 },
 "nbformat": 4,
 "nbformat_minor": 1
}