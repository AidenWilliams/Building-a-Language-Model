{
 "cells": [
  {
   "cell_type": "code",
   "execution_count": 1,
   "metadata": {
    "collapsed": true,
    "pycharm": {
     "name": "#%%\n"
    }
   },
   "outputs": [
    {
     "data": {
      "text/plain": "Reading Files:   0%|          | 0/1 [00:00<?, ?it/s]",
      "application/vnd.jupyter.widget-view+json": {
       "version_major": 2,
       "version_minor": 0,
       "model_id": "7513fd399a3a469386d633993e8dcd09"
      }
     },
     "metadata": {},
     "output_type": "display_data"
    },
    {
     "data": {
      "text/plain": "Parsing XML:   0%|          | 0/1 [00:00<?, ?it/s]",
      "application/vnd.jupyter.widget-view+json": {
       "version_major": 2,
       "version_minor": 0,
       "model_id": "0dde0fd4830a4eb79233f6e216e45543"
      }
     },
     "metadata": {},
     "output_type": "display_data"
    },
    {
     "data": {
      "text/plain": "XML File:   0%|          | 0/1 [00:00<?, ?it/s]",
      "application/vnd.jupyter.widget-view+json": {
       "version_major": 2,
       "version_minor": 0,
       "model_id": "2920681b9bb04ee3aa2b2726975005fb"
      }
     },
     "metadata": {},
     "output_type": "display_data"
    },
    {
     "data": {
      "text/plain": "Paragraph: 0it [00:00, ?it/s]",
      "application/vnd.jupyter.widget-view+json": {
       "version_major": 2,
       "version_minor": 0,
       "model_id": "95e878fa7c5b42fb91feef20384c359f"
      }
     },
     "metadata": {},
     "output_type": "display_data"
    },
    {
     "data": {
      "text/plain": "Counting x counts:   0%|          | 0/1 [00:00<?, ?it/s]",
      "application/vnd.jupyter.widget-view+json": {
       "version_major": 2,
       "version_minor": 0,
       "model_id": "6c8c7807fe0b4936873eb80b25a0ae69"
      }
     },
     "metadata": {},
     "output_type": "display_data"
    },
    {
     "data": {
      "text/plain": "Counting x counts:   0%|          | 0/1 [00:00<?, ?it/s]",
      "application/vnd.jupyter.widget-view+json": {
       "version_major": 2,
       "version_minor": 0,
       "model_id": "43723a0f8e9a4da8b97c8bee3481f808"
      }
     },
     "metadata": {},
     "output_type": "display_data"
    },
    {
     "data": {
      "text/plain": "Counting x counts:   0%|          | 0/1 [00:00<?, ?it/s]",
      "application/vnd.jupyter.widget-view+json": {
       "version_major": 2,
       "version_minor": 0,
       "model_id": "8dd0ab65cf7f49a98b69cc6030e62e55"
      }
     },
     "metadata": {},
     "output_type": "display_data"
    },
    {
     "data": {
      "text/plain": "Counting x counts:   0%|          | 0/1 [00:00<?, ?it/s]",
      "application/vnd.jupyter.widget-view+json": {
       "version_major": 2,
       "version_minor": 0,
       "model_id": "b55fb9e2ced14ff293bc8cf09fd29d02"
      }
     },
     "metadata": {},
     "output_type": "display_data"
    }
   ],
   "source": [
    "from lxml import etree\n",
    "import re\n",
    "from tqdm.notebook import tqdm\n",
    "import os\n",
    "\n",
    "class Model(object):\n",
    "    def __init__(self, corpus, n=2, model=\"vanilla\"):\n",
    "        x_counts = corpus.NGram(n,model=model)['gram']\n",
    "        V = 0\n",
    "        if model == \"laplace\":\n",
    "            V = len(corpus.NGram(n=1)['gram'])\n",
    "\n",
    "        probabilities = {}\n",
    "\n",
    "        if n is not 1:\n",
    "            previous = corpus.NGram(n-1,model=model)['gram']\n",
    "            for x in x_counts:\n",
    "                probabilities[x] = {\"probability\":(x_counts[x][\"count\"] + int(model==\"laplace\")) / (previous[x[1:]][\"count\"] + V)}\n",
    "        else:\n",
    "            N = len([w for s in corpus for w in s])\n",
    "            for x in x_counts:\n",
    "                probabilities[x] = {\"probability\":(x_counts[x][\"count\"] + int(model==\"laplace\")) / (N + V)}\n",
    "\n",
    "        self.probabilities = probabilities\n",
    "        self.model = model\n",
    "\n",
    "    def GetProbability(self, forX, givenY:tuple):\n",
    "        # Add input validation\n",
    "        sequence = tuple(forX) + givenY\n",
    "\n",
    "        if sequence in self.probabilities:\n",
    "            return self.probabilities[sequence][\"probability\"]\n",
    "        else:\n",
    "            return 0\n",
    "\n",
    "class Corpus(object):\n",
    "    def __init__(self, corpus=None, directory=\"Corpus/\"):\n",
    "        if corpus is None:\n",
    "            self._corpus = self._CorpusAsListOfSentences(directory)\n",
    "        else:\n",
    "            self._corpus = corpus\n",
    "        identifier = tuple([1, \"vanilla\"])\n",
    "        self._ngrams = {}\n",
    "        self._ngrams[identifier] = self.NGram(n=1)\n",
    "        self._models = {}\n",
    "        self._models[identifier] = self.Model(n=1)\n",
    "\n",
    "    def __len__(self):\n",
    "        return len(self._corpus)\n",
    "\n",
    "    def __iter__(self):\n",
    "        for word in self._corpus:\n",
    "            yield word\n",
    "\n",
    "    def __getitem__(self, index):\n",
    "        return self._corpus[index]\n",
    "\n",
    "    # Create functions to free memory once function scope is left\n",
    "    @staticmethod\n",
    "    def _readCorpus(root=\"Corpus/\"):\n",
    "        if not os.access(root, os.R_OK):\n",
    "            print(\"Check root!!\")\n",
    "\n",
    "        xml_data = []\n",
    "\n",
    "        for file in tqdm(os.listdir(root), desc='Reading Files'):\n",
    "            xml_data.append(open(os.path.join(root, file), 'r', encoding='utf8').read())  # Read file\n",
    "        return xml_data\n",
    "\n",
    "    @staticmethod\n",
    "    def _ParseAsXML(root=\"Corpus/\"):\n",
    "        parser = etree.XMLParser(recover=True)\n",
    "        roots = []\n",
    "        xml_data = Corpus._readCorpus(root)\n",
    "        for xml in tqdm(xml_data, desc='Parsing XML'):\n",
    "            roots.append(etree.fromstring(xml, parser=parser))\n",
    "        return roots\n",
    "\n",
    "    # Mention garbage collection effort and try outs for pd and numpy and why i settled with list of lists (pd matrix, list of lists no)\n",
    "    @staticmethod\n",
    "    def _CorpusAsListOfSentences(root=\"Corpus/\"):\n",
    "        roots = Corpus._ParseAsXML(root)\n",
    "        sentences = []\n",
    "        for root in tqdm(roots, desc='XML File'):\n",
    "            for i, p in tqdm(enumerate(root), desc='Paragraph'):\n",
    "                for k, s in enumerate(p):\n",
    "                    unfiltered_sentence = re.split(r'\\n', s.text.lstrip('\\n'))\n",
    "                    sentence = []\n",
    "                    for unfiltered_word in unfiltered_sentence:\n",
    "                        if unfiltered_word is not \"\":\n",
    "                            filtered_word = unfiltered_word.split('\\t')\n",
    "                            sentence.append(filtered_word[0])\n",
    "                    if sentence is not []:\n",
    "                        sentence.insert(0, \"<s>\")\n",
    "                        sentences.append(sentence)\n",
    "                        sentence.append(\"</s>\")\n",
    "        return sentences\n",
    "\n",
    "    def X_Counts(self, n):\n",
    "        x_counts = {}\n",
    "        for s in tqdm(self, desc='Counting x counts'):\n",
    "            for i in range(len(s) + 1):\n",
    "                if i < n - 1 or i == 0:\n",
    "                    continue\n",
    "                count = []\n",
    "                for x in range(n,0,-1):\n",
    "                    count.append(s[i - x])\n",
    "                count = tuple(count)\n",
    "\n",
    "                if count in x_counts:\n",
    "                    x_counts[count] += 1\n",
    "                else:\n",
    "                    x_counts[count] = 1\n",
    "\n",
    "        return x_counts\n",
    "\n",
    "    def NGram(self, n=2, model=\"vanilla\"):\n",
    "        if n < 1:\n",
    "            raise Exception(\"Unigrams and up are supported, otherwise no.\")\n",
    "\n",
    "        if model != \"vanilla\" and \\\n",
    "            model != \"laplace\" and \\\n",
    "            model != \"unk\":\n",
    "            raise Exception(\"Only 'vanilla'/'laplace'/'unk' models are supported.\")\n",
    "\n",
    "        identifier = tuple([n, model])\n",
    "        if identifier in self._ngrams:\n",
    "            if  self._ngrams[identifier][\"model\"] == model:\n",
    "                return self._ngrams[identifier]\n",
    "\n",
    "        x_counts = self.X_Counts(n=n)\n",
    "\n",
    "        if model == \"unk\":\n",
    "            _count = self.X_Counts(n=1)\n",
    "            tc = []\n",
    "            for s in self:\n",
    "                ts = []\n",
    "                for w in s:\n",
    "                    if _count[tuple([w])] < 3:\n",
    "                        ts.append(\"UNK\")\n",
    "                    else:\n",
    "                        ts.append(w)\n",
    "                tc.append(ts)\n",
    "\n",
    "            temp = Corpus(corpus=tc)\n",
    "            x_counts = temp.X_Counts(n=n)\n",
    "\n",
    "\n",
    "        gram = {}\n",
    "        for x in x_counts:\n",
    "            gram[x] = {\"count\":x_counts[x]}\n",
    "\n",
    "        result =    {\n",
    "                        \"gram\": gram,\n",
    "                        \"model\": model\n",
    "                    }\n",
    "\n",
    "        self._ngrams[identifier] = result\n",
    "        return self._ngrams[identifier]\n",
    "\n",
    "\n",
    "    def Model(self, n=2, model=\"vanilla\"):\n",
    "        identifier = tuple([n, model])\n",
    "        if identifier in self._models:\n",
    "            if  self._models[identifier].model == model:\n",
    "                return self._models[identifier]\n",
    "\n",
    "\n",
    "        self._models[identifier] = Model(corpus=self,n=n,model=model)\n",
    "        return self._models[identifier]\n",
    "\n",
    "\n",
    "#http://pages.di.unipi.it/pibiri/papers/NGrams18.pdf\n",
    "\n",
    "corpus = Corpus(directory=\"Test Corpus/\")\n",
    "vanilla = corpus.Model()\n",
    "laplace = corpus.Model(model=\"laplace\")\n"
   ]
  }
 ],
 "metadata": {
  "kernelspec": {
   "display_name": "Python 3",
   "language": "python",
   "name": "python3"
  },
  "language_info": {
   "codemirror_mode": {
    "name": "ipython",
    "version": 3
   },
   "file_extension": ".py",
   "mimetype": "text/x-python",
   "name": "python",
   "nbconvert_exporter": "python",
   "pygments_lexer": "ipython3",
   "version": "3.7.1"
  }
 },
 "nbformat": 4,
 "nbformat_minor": 1
}