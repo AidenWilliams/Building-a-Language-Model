{
 "cells": [
  {
   "cell_type": "code",
   "execution_count": 1,
   "metadata": {
    "collapsed": true
   },
   "outputs": [],
   "source": [
    "from lxml import etree\n",
    "import re\n",
    "from tqdm.notebook import tqdm\n",
    "from itertools import combinations\n",
    "import os"
   ]
  },
  {
   "cell_type": "code",
   "execution_count": 2,
   "metadata": {
    "pycharm": {
     "name": "#%%\n"
    }
   },
   "outputs": [],
   "source": [
    "class Word(object):\n",
    "    def __init__(self, kelma, tip, mamma, gherq):\n",
    "        self.kelma = kelma\n",
    "        self.tip = tip\n",
    "        self.mamma = mamma\n",
    "        self.gherq = gherq\n",
    "\n",
    "    def __str__(self):\n",
    "        return  'Kelma: ' + self.kelma + '\\n' + \\\n",
    "                ', tip: ' + self.tip + '\\n' + \\\n",
    "                ', mamma: ' + self.mamma + '\\n' + \\\n",
    "                ', gherq: ' + self.gherq\n",
    "\n",
    "    def __repr__(self):\n",
    "        return self.kelma\n",
    "\n",
    "    def __iter__(self):\n",
    "        for each in self.__dict__.values():\n",
    "            yield each\n",
    "\n",
    "    def __getitem__(self, index):\n",
    "        if index < 4:\n",
    "            return list(self.__dict__.values())[index]\n",
    "        else:\n",
    "            raise IndexError('Max index is 3')\n",
    "\n",
    "    def __eq__(self, word):\n",
    "        return  self.kelma == word.kelma and \\\n",
    "                self.tip == word.tip and \\\n",
    "                self.mamma == word.mamma and \\\n",
    "                self.gherq == word.gherq\n",
    "\n",
    "    def __ne__(self, word):\n",
    "        return not self == word\n",
    "\n",
    "    def __hash__(self):\n",
    "        return hash((self.kelma, self.tip, self.mamma, self.gherq))"
   ]
  },
  {
   "cell_type": "code",
   "execution_count": 3,
   "metadata": {
    "pycharm": {
     "name": "#%%\n"
    }
   },
   "outputs": [],
   "source": [
    "# Define Sentence class with some functionality\n",
    "class Sentence(object):\n",
    "    def __init__(self, words=None):\n",
    "        if words is None:\n",
    "            words = []\n",
    "        self.words = words\n",
    "\n",
    "    def __str__(self):\n",
    "        s = ''\n",
    "        for word in self.words:\n",
    "            s += word.kelma + \" \"\n",
    "        return s\n",
    "\n",
    "    def __repr__(self):\n",
    "        return self.__str__()\n",
    "\n",
    "    def __iter__(self):\n",
    "        for word in self.words:\n",
    "            yield word\n",
    "\n",
    "    def __getitem__(self, index):\n",
    "        return self.words[index]\n",
    "\n",
    "    def append(self, word: Word):\n",
    "        self.words.append(word)\n",
    "\n",
    "    def insert(self,index, word: Word):\n",
    "        self.words.insert(index, word)\n",
    "\n",
    "    def __eq__(self, sentence):\n",
    "        for w1, w2 in self, sentence:\n",
    "            if w1 != w2:\n",
    "                return False\n",
    "        return True\n",
    "\n",
    "    def __ne__(self, sentence):\n",
    "        return not self != sentence\n",
    "\n",
    "    def __len__(self):\n",
    "        return len(self.words)\n"
   ]
  },
  {
   "cell_type": "code",
   "execution_count": 4,
   "metadata": {
    "pycharm": {
     "name": "#%%\n"
    }
   },
   "outputs": [],
   "source": [
    "class Corpus(object):\n",
    "    def __init__(self, directory=\"Corpus/\"):\n",
    "        self._corpus = self._CorpusAsListOfSentences(directory)\n",
    "        self.words = set([w for s in self for w in s])\n",
    "        self._vanilla = None\n",
    "        self._laplace = None\n",
    "        self._unk = None\n",
    "\n",
    "        x_counts = {}\n",
    "        N = 0\n",
    "        for s in tqdm(self, desc='Counting x counts'):\n",
    "            for i in range(len(s)):\n",
    "                N+=0\n",
    "                count = tuple([s[i]])\n",
    "\n",
    "                if count in x_counts:\n",
    "                    x_counts[count] += 1\n",
    "                else:\n",
    "                    x_counts[count] = 1\n",
    "\n",
    "        gram = {}\n",
    "        for x in x_counts:\n",
    "            gram[x] = {\"count\":x_counts[x]}\n",
    "\n",
    "        self._ngrams = {1: {\"gram\": gram,\n",
    "                            \"flags\":\n",
    "                                {\n",
    "                                    \"limit\": None, \"til\": True, \"model\": \"vanilla\"\n",
    "                                }\n",
    "                            }}\n",
    "        model = {}\n",
    "        for x in x_counts:\n",
    "            model[x] = {\"probability\": 1/N}\n",
    "\n",
    "        self._models = {1: model,\n",
    "                        \"type\":\"vanilla\"}\n",
    "\n",
    "    def __len__(self):\n",
    "        return len(self._corpus)\n",
    "\n",
    "    def __iter__(self):\n",
    "        for word in self._corpus:\n",
    "            yield word\n",
    "\n",
    "    def __getitem__(self, index):\n",
    "        return self._corpus[index]\n",
    "\n",
    "    # Create functions to free memory once function scope is left\n",
    "    @staticmethod\n",
    "    def _readCorpus(root=\"Corpus/\"):\n",
    "        if not os.access(root, os.R_OK):\n",
    "            print(\"Check root!!\")\n",
    "\n",
    "        xml_data = []\n",
    "\n",
    "        for file in tqdm(os.listdir(root), desc='Reading Files'):\n",
    "            xml_data.append(open(os.path.join(root, file), 'r', encoding='utf8').read())  # Read file\n",
    "        return xml_data\n",
    "\n",
    "    @staticmethod\n",
    "    def _ParseAsXML(root=\"Corpus/\"):\n",
    "        parser = etree.XMLParser(recover=True)\n",
    "        roots = []\n",
    "        xml_data = Corpus._readCorpus(root)\n",
    "        for xml in tqdm(xml_data, desc='Parsing XML'):\n",
    "            roots.append(etree.fromstring(xml, parser=parser))\n",
    "        return roots\n",
    "\n",
    "    # Mention garbage collection effort and try outs for pd and numpy and why i settled with list of lists (pd matrix, list of lists no)\n",
    "    @staticmethod\n",
    "    def _CorpusAsListOfSentences(root=\"Corpus/\"):\n",
    "        roots = Corpus._ParseAsXML(root)\n",
    "        sentences = []\n",
    "        for root in tqdm(roots, desc='XML File'):\n",
    "            for i, p in tqdm(enumerate(root), desc='Paragraph'):\n",
    "                for k, s in enumerate(p):\n",
    "                    unfiltered_sentence = re.split(r'\\n', s.text.lstrip('\\n'))\n",
    "                    sentence = Sentence()\n",
    "                    for unfiltered_word in unfiltered_sentence:\n",
    "                        if unfiltered_word is not \"\":\n",
    "                            filtered_word = unfiltered_word.split('\\t')\n",
    "                            sentence.append(Word(   filtered_word[0],\n",
    "                                                    filtered_word[1],\n",
    "                                                    filtered_word[2],\n",
    "                                                    filtered_word[3]))\n",
    "                    if sentence is not []:\n",
    "                        sentence.insert(0, Word(\"<s>\", \"Bidu\", \"null\", \"null\"))\n",
    "                        sentences.append(sentence)\n",
    "                        sentence.append(Word(\"</s>\", \"Tmiem\", \"null\", \"null\"))\n",
    "        return sentences\n",
    "\n",
    "    def NGram(self, n=2, limit=None, til=True, replace=False, model=\"vanilla\"):\n",
    "        if n == 1:\n",
    "            #return unigram()\n",
    "\n",
    "\n",
    "        if n < 1:\n",
    "            raise Exception(\"Unigrams and up are supported, otherwise no.\")\n",
    "\n",
    "        if model != \"vanilla\" or \\\n",
    "            model != \"laplace\" or \\\n",
    "            model != \"unk\":\n",
    "            raise Exception(\"Only 'vanilla'/'laplace'/'unk' models are supported.\")\n",
    "\n",
    "        if n in self._ngrams:\n",
    "            if  self._ngrams[n][\"flags\"][\"limit\"] == limit and self._ngrams[n][\"flags\"][\"til\"] == til \\\n",
    "                    and self._ngrams[n][\"flags\"][\"model\"] == model:\n",
    "                return self._ngrams[n]\n",
    "        if n not in self._ngrams:\n",
    "            replace = True\n",
    "\n",
    "        laplace = 0\n",
    "\n",
    "        if model == \"laplace\":\n",
    "            laplace = 1\n",
    "\n",
    "        local_corpus = [s for s in self if len(s) >= n]\n",
    "\n",
    "        if limit is None and til is not True:\n",
    "            raise Exception(\"Cannot access index: None\\nDefine limit to use til\")\n",
    "        elif limit is not None and til is True:\n",
    "            local_corpus = local_corpus[:(limit+1)]\n",
    "        elif limit is not None and til is not True:\n",
    "            local_corpus = [local_corpus[limit]]\n",
    "\n",
    "\n",
    "\n",
    "        x_counts = {}\n",
    "        for s in tqdm(local_corpus, desc='Counting x counts'):\n",
    "            for i in range(len(s)):\n",
    "                if i < n:\n",
    "                    continue\n",
    "                count = []\n",
    "                for x in range(n,0,-1):\n",
    "                    count.append(s[i - x])\n",
    "                count = tuple(count)\n",
    "\n",
    "                if count in x_counts:\n",
    "                    x_counts[count] += (1 + laplace)\n",
    "                else:\n",
    "                    x_counts[count] = (1 + laplace)\n",
    "\n",
    "        if model == \"unk\":\n",
    "            # write function that works for unigram\n",
    "\n",
    "\n",
    "        gram = {}\n",
    "        for x in x_counts:\n",
    "            gram[x] = {\"count\":x_counts[x]}\n",
    "\n",
    "        result =    {   \"gram\":gram,\n",
    "                        \"flags\":\n",
    "                        {\n",
    "                            \"limit\": limit, \"til\": til, \"model\": model\n",
    "                        }\n",
    "                    }\n",
    "\n",
    "        if replace:\n",
    "            self._ngrams[n] = result\n",
    "            return self._ngrams[n]\n",
    "        else:\n",
    "            return result\n",
    "\n",
    "    def Model(self, n, model, replace):\n",
    "        if n in self._models:\n",
    "            if  self._models[n][\"type\"] == \"model\":\n",
    "                return self._models[n]\n",
    "        if n not in self._models:\n",
    "            replace = True\n",
    "\n",
    "        x_counts = self.NGram(n,model=model)['gram']\n",
    "        previous = self.NGram(n-1,model=model)['gram']\n",
    "\n",
    "        probabilities = {}\n",
    "        for x in x_counts:\n",
    "            probabilities[x] = {\"probability\":x_counts[x][\"count\"] / previous[x[1:]][\"count\"]}\n",
    "\n",
    "        result = {n:probabilities,\n",
    "                  \"type\":\"model\"}\n",
    "\n",
    "        if replace:\n",
    "            self._models[n] = result\n",
    "            return self._models[n]\n",
    "        else:\n",
    "            return result\n",
    "\n",
    "\n",
    "#http://pages.di.unipi.it/pibiri/papers/NGrams18.pdf"
   ]
  },
  {
   "cell_type": "code",
   "execution_count": 5,
   "outputs": [
    {
     "data": {
      "text/plain": "Reading Files:   0%|          | 0/5 [00:00<?, ?it/s]",
      "application/vnd.jupyter.widget-view+json": {
       "version_major": 2,
       "version_minor": 0,
       "model_id": "de9ab71fcbb948fea4f020e652668c3d"
      }
     },
     "metadata": {},
     "output_type": "display_data"
    },
    {
     "data": {
      "text/plain": "Parsing XML:   0%|          | 0/5 [00:00<?, ?it/s]",
      "application/vnd.jupyter.widget-view+json": {
       "version_major": 2,
       "version_minor": 0,
       "model_id": "268e35f878ed463d97ed0ac1d5f863f0"
      }
     },
     "metadata": {},
     "output_type": "display_data"
    },
    {
     "data": {
      "text/plain": "XML File:   0%|          | 0/5 [00:00<?, ?it/s]",
      "application/vnd.jupyter.widget-view+json": {
       "version_major": 2,
       "version_minor": 0,
       "model_id": "4497744553094a689213f6cecfdcefe7"
      }
     },
     "metadata": {},
     "output_type": "display_data"
    },
    {
     "data": {
      "text/plain": "Paragraph: 0it [00:00, ?it/s]",
      "application/vnd.jupyter.widget-view+json": {
       "version_major": 2,
       "version_minor": 0,
       "model_id": "c9d148d161264a50af4420863de404f2"
      }
     },
     "metadata": {},
     "output_type": "display_data"
    },
    {
     "data": {
      "text/plain": "Paragraph: 0it [00:00, ?it/s]",
      "application/vnd.jupyter.widget-view+json": {
       "version_major": 2,
       "version_minor": 0,
       "model_id": "4503089c0760404d9b12b245bd758bd2"
      }
     },
     "metadata": {},
     "output_type": "display_data"
    },
    {
     "data": {
      "text/plain": "Paragraph: 0it [00:00, ?it/s]",
      "application/vnd.jupyter.widget-view+json": {
       "version_major": 2,
       "version_minor": 0,
       "model_id": "e948904e80c141b4905661e8f21fafed"
      }
     },
     "metadata": {},
     "output_type": "display_data"
    },
    {
     "data": {
      "text/plain": "Paragraph: 0it [00:00, ?it/s]",
      "application/vnd.jupyter.widget-view+json": {
       "version_major": 2,
       "version_minor": 0,
       "model_id": "566963e21f1c4de7a4130f1ab47ec2b1"
      }
     },
     "metadata": {},
     "output_type": "display_data"
    },
    {
     "data": {
      "text/plain": "Paragraph: 0it [00:00, ?it/s]",
      "application/vnd.jupyter.widget-view+json": {
       "version_major": 2,
       "version_minor": 0,
       "model_id": "94010db9fbea450988380b380e498d7a"
      }
     },
     "metadata": {},
     "output_type": "display_data"
    },
    {
     "data": {
      "text/plain": "Counting x counts:   0%|          | 0/3408 [00:00<?, ?it/s]",
      "application/vnd.jupyter.widget-view+json": {
       "version_major": 2,
       "version_minor": 0,
       "model_id": "885fe494c3934bd786bb5b880fd73c19"
      }
     },
     "metadata": {},
     "output_type": "display_data"
    }
   ],
   "source": [
    "corpus = Corpus()"
   ],
   "metadata": {
    "collapsed": false,
    "pycharm": {
     "name": "#%%\n"
    }
   }
  },
  {
   "cell_type": "code",
   "execution_count": 6,
   "outputs": [
    {
     "data": {
      "text/plain": "Counting x counts:   0%|          | 0/3408 [00:00<?, ?it/s]",
      "application/vnd.jupyter.widget-view+json": {
       "version_major": 2,
       "version_minor": 0,
       "model_id": "1f6ae4e79be546d993762f31fd4f5c5f"
      }
     },
     "metadata": {},
     "output_type": "display_data"
    }
   ],
   "source": [
    "bigram = corpus.NGram()"
   ],
   "metadata": {
    "collapsed": false,
    "pycharm": {
     "name": "#%%\n"
    }
   }
  },
  {
   "cell_type": "code",
   "execution_count": 7,
   "metadata": {
    "pycharm": {
     "name": "#%%\n"
    }
   },
   "outputs": [
    {
     "data": {
      "text/plain": "Counting x counts:   0%|          | 0/3408 [00:00<?, ?it/s]",
      "application/vnd.jupyter.widget-view+json": {
       "version_major": 2,
       "version_minor": 0,
       "model_id": "efc695c8c0bf4e2d93029d9c8cf8bbcc"
      }
     },
     "metadata": {},
     "output_type": "display_data"
    }
   ],
   "source": [
    "trigram = corpus.NGram(3)"
   ]
  },
  {
   "cell_type": "code",
   "execution_count": 8,
   "outputs": [],
   "source": [],
   "metadata": {
    "collapsed": false,
    "pycharm": {
     "name": "#%%\n"
    }
   }
  },
  {
   "cell_type": "code",
   "execution_count": 9,
   "outputs": [],
   "source": [
    "#, \"probability\":x_counts[x] / previous[x[1:]][\"count\"]}\n",
    "words = set([w for s in corpus for w in s])\n",
    "# def vanilla(self, n):\n"
   ],
   "metadata": {
    "collapsed": false,
    "pycharm": {
     "name": "#%%\n"
    }
   }
  }
 ],
 "metadata": {
  "kernelspec": {
   "display_name": "Python 3",
   "language": "python",
   "name": "python3"
  },
  "language_info": {
   "codemirror_mode": {
    "name": "ipython",
    "version": 3
   },
   "file_extension": ".py",
   "mimetype": "text/x-python",
   "name": "python",
   "nbconvert_exporter": "python",
   "pygments_lexer": "ipython3",
   "version": "3.7.1"
  }
 },
 "nbformat": 4,
 "nbformat_minor": 1
}