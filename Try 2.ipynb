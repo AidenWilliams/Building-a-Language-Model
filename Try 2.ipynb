{
 "cells": [
  {
   "cell_type": "code",
   "execution_count": 12,
   "metadata": {
    "collapsed": true,
    "pycharm": {
     "name": "#%%\n"
    }
   },
   "outputs": [
    {
     "data": {
      "text/plain": "Reading Files:   0%|          | 0/1 [00:00<?, ?it/s]",
      "application/vnd.jupyter.widget-view+json": {
       "version_major": 2,
       "version_minor": 0,
       "model_id": "260d4ca7e082459386a8881c2d34f99f"
      }
     },
     "metadata": {},
     "output_type": "display_data"
    },
    {
     "data": {
      "text/plain": "Parsing XML:   0%|          | 0/1 [00:00<?, ?it/s]",
      "application/vnd.jupyter.widget-view+json": {
       "version_major": 2,
       "version_minor": 0,
       "model_id": "37721e9d38e8410cac4577cf758e6bce"
      }
     },
     "metadata": {},
     "output_type": "display_data"
    },
    {
     "data": {
      "text/plain": "XML File:   0%|          | 0/1 [00:00<?, ?it/s]",
      "application/vnd.jupyter.widget-view+json": {
       "version_major": 2,
       "version_minor": 0,
       "model_id": "592f68216ba74a8e8375dfd94730ea2b"
      }
     },
     "metadata": {},
     "output_type": "display_data"
    },
    {
     "data": {
      "text/plain": "Paragraph: 0it [00:00, ?it/s]",
      "application/vnd.jupyter.widget-view+json": {
       "version_major": 2,
       "version_minor": 0,
       "model_id": "528659883b6343f2a733c14c48516289"
      }
     },
     "metadata": {},
     "output_type": "display_data"
    },
    {
     "data": {
      "text/plain": "Counting x counts:   0%|          | 0/1 [00:00<?, ?it/s]",
      "application/vnd.jupyter.widget-view+json": {
       "version_major": 2,
       "version_minor": 0,
       "model_id": "af19009cbfbc4dceae16420653f57b3c"
      }
     },
     "metadata": {},
     "output_type": "display_data"
    },
    {
     "data": {
      "text/plain": "Counting x counts:   0%|          | 0/1 [00:00<?, ?it/s]",
      "application/vnd.jupyter.widget-view+json": {
       "version_major": 2,
       "version_minor": 0,
       "model_id": "98679596d3314c2990bd84820ef7f4a9"
      }
     },
     "metadata": {},
     "output_type": "display_data"
    },
    {
     "data": {
      "text/plain": "Counting x counts:   0%|          | 0/1 [00:00<?, ?it/s]",
      "application/vnd.jupyter.widget-view+json": {
       "version_major": 2,
       "version_minor": 0,
       "model_id": "01a1476ebdac4892be30aa63f4ddaf0e"
      }
     },
     "metadata": {},
     "output_type": "display_data"
    },
    {
     "data": {
      "text/plain": "Counting x counts:   0%|          | 0/1 [00:00<?, ?it/s]",
      "application/vnd.jupyter.widget-view+json": {
       "version_major": 2,
       "version_minor": 0,
       "model_id": "33da84955ed344a1be451bba14ad520d"
      }
     },
     "metadata": {},
     "output_type": "display_data"
    },
    {
     "data": {
      "text/plain": "Counting x counts:   0%|          | 0/1 [00:00<?, ?it/s]",
      "application/vnd.jupyter.widget-view+json": {
       "version_major": 2,
       "version_minor": 0,
       "model_id": "0d8dfe43e16948bab3ef432067b18a1f"
      }
     },
     "metadata": {},
     "output_type": "display_data"
    },
    {
     "name": "stdout",
     "output_type": "stream",
     "text": [
      "1.0\n",
      "0.2\n",
      "0.29411764705882354\n",
      "**\n",
      "1.0\n",
      "0.2\n",
      "0.29411764705882354\n",
      "0.6894117647058823\n"
     ]
    }
   ],
   "source": [
    "from lxml import etree\n",
    "import re\n",
    "from tqdm.notebook import tqdm\n",
    "import os\n",
    "\n",
    "class Corpus(object):\n",
    "    def __init__(self, corpus=None, directory=\"Corpus/\"):\n",
    "        if corpus is None:\n",
    "            self._corpus = self._CorpusAsListOfSentences(directory)\n",
    "        else:\n",
    "            self._corpus = corpus\n",
    "        identifier = tuple([1, \"vanilla\"])\n",
    "        self._ngrams = {}\n",
    "        self._ngrams[identifier] = self.NGram(n=1)\n",
    "        self._models = {}\n",
    "        self._models[identifier] = self.Model(n=1)\n",
    "\n",
    "    def __len__(self):\n",
    "        return len(self._corpus)\n",
    "\n",
    "    def __iter__(self):\n",
    "        for word in self._corpus:\n",
    "            yield word\n",
    "\n",
    "    def __getitem__(self, index):\n",
    "        return self._corpus[index]\n",
    "\n",
    "    # Create functions to free memory once function scope is left\n",
    "    @staticmethod\n",
    "    def _readCorpus(root=\"Corpus/\"):\n",
    "        if not os.access(root, os.R_OK):\n",
    "            print(\"Check root!!\")\n",
    "\n",
    "        xml_data = []\n",
    "\n",
    "        for file in tqdm(os.listdir(root), desc='Reading Files'):\n",
    "            xml_data.append(open(os.path.join(root, file), 'r', encoding='utf8').read())  # Read file\n",
    "        return xml_data\n",
    "\n",
    "    @staticmethod\n",
    "    def _ParseAsXML(root=\"Corpus/\"):\n",
    "        parser = etree.XMLParser(recover=True)\n",
    "        roots = []\n",
    "        xml_data = Corpus._readCorpus(root)\n",
    "        for xml in tqdm(xml_data, desc='Parsing XML'):\n",
    "            roots.append(etree.fromstring(xml, parser=parser))\n",
    "        return roots\n",
    "\n",
    "    # Mention garbage collection effort and try outs for pd and numpy and why i settled with list of lists (pd matrix, list of lists no)\n",
    "    @staticmethod\n",
    "    def _CorpusAsListOfSentences(root=\"Corpus/\"):\n",
    "        roots = Corpus._ParseAsXML(root)\n",
    "        sentences = []\n",
    "        for root in tqdm(roots, desc='XML File'):\n",
    "            for i, p in tqdm(enumerate(root), desc='Paragraph'):\n",
    "                for k, s in enumerate(p):\n",
    "                    unfiltered_sentence = re.split(r'\\n', s.text.lstrip('\\n'))\n",
    "                    sentence = []\n",
    "                    for unfiltered_word in unfiltered_sentence:\n",
    "                        if unfiltered_word is not \"\":\n",
    "                            filtered_word = unfiltered_word.split('\\t')\n",
    "                            sentence.append(filtered_word[0])\n",
    "                    if sentence is not []:\n",
    "                        sentence.insert(0, \"<s>\")\n",
    "                        sentences.append(sentence)\n",
    "                        sentence.append(\"</s>\")\n",
    "        return sentences\n",
    "\n",
    "    def X_Counts(self, n):\n",
    "        x_counts = {}\n",
    "        for s in tqdm(self, desc='Counting x counts'):\n",
    "            for i in range(len(s) + 1):\n",
    "                if i < n - 1 or i == 0:\n",
    "                    continue\n",
    "                count = []\n",
    "                for x in range(n,0,-1):\n",
    "                    count.append(s[i - x])\n",
    "                count = tuple(count)\n",
    "\n",
    "                if count in x_counts:\n",
    "                    x_counts[count] += 1\n",
    "                else:\n",
    "                    x_counts[count] = 1\n",
    "\n",
    "        return x_counts\n",
    "\n",
    "    def NGram(self, n=2, model=\"vanilla\"):\n",
    "        if n < 1:\n",
    "            raise Exception(\"Unigrams and up are supported, otherwise no.\")\n",
    "\n",
    "        if model != \"vanilla\" and \\\n",
    "            model != \"laplace\" and \\\n",
    "            model != \"unk\":\n",
    "            raise Exception(\"Only 'vanilla'/'laplace'/'unk' models are supported.\")\n",
    "\n",
    "        identifier = tuple([n, model])\n",
    "        if identifier in self._ngrams:\n",
    "            if  self._ngrams[identifier][\"model\"] == model:\n",
    "                return self._ngrams[identifier]\n",
    "\n",
    "        x_counts = self.X_Counts(n=n)\n",
    "\n",
    "        if model == \"unk\":\n",
    "            _count = self.X_Counts(n=1)\n",
    "            tc = []\n",
    "            for s in self:\n",
    "                ts = []\n",
    "                for w in s:\n",
    "                    if _count[tuple([w])] < 3:\n",
    "                        ts.append(\"UNK\")\n",
    "                    else:\n",
    "                        ts.append(w)\n",
    "                tc.append(ts)\n",
    "\n",
    "            temp = Corpus(corpus=tc)\n",
    "            x_counts = temp.X_Counts(n=n)\n",
    "\n",
    "\n",
    "        gram = {}\n",
    "        for x in x_counts:\n",
    "            gram[x] = {\"count\":x_counts[x]}\n",
    "\n",
    "        result =    {\n",
    "                        \"gram\": gram,\n",
    "                        \"model\": model\n",
    "                    }\n",
    "\n",
    "        self._ngrams[identifier] = result\n",
    "        return self._ngrams[identifier]\n",
    "\n",
    "\n",
    "    def Model(self, n=2, model=\"vanilla\"):\n",
    "        identifier = tuple([n, model])\n",
    "        if identifier in self._models:\n",
    "            if  self._models[identifier].model == model:\n",
    "                return self._models[identifier]\n",
    "\n",
    "\n",
    "        self._models[identifier] = Model(corpus=self,n=n,model=model)\n",
    "        return self._models[identifier]\n",
    "\n",
    "    def LinearInterpolation(self, trigram:tuple, model=\"vanilla\"):\n",
    "        if len(trigram) != 3:\n",
    "            raise Exception(\"Only trigrams are supported with this function.\")\n",
    "\n",
    "        l1 = 0.1\n",
    "        l2 = 0.3\n",
    "        l3 = 0.6\n",
    "\n",
    "        probabilities = [self.Model(n=1,model=model),\n",
    "                         self.Model(n=2,model=model),\n",
    "                         self.Model(n=3,model=model)\n",
    "                         ]\n",
    "\n",
    "        return  l3 * probabilities[2].GetProbability(trigram[2], trigram[:2]) + \\\n",
    "                l2 * probabilities[1].GetProbability(trigram[2], tuple(trigram[1])) + \\\n",
    "                l1 * probabilities[0].GetProbability(trigram[2])\n",
    "\n",
    "\n",
    "class Model(object):\n",
    "    def __init__(self, corpus, n=2, model=\"vanilla\"):\n",
    "        x_counts = corpus.NGram(n,model=model)['gram']\n",
    "        V = 0\n",
    "        if model == \"laplace\":\n",
    "            V = len(corpus.NGram(n=1)['gram'])\n",
    "\n",
    "        probabilities = {}\n",
    "\n",
    "        if n is not 1:\n",
    "            previous = corpus.NGram(n-1,model=model)['gram']\n",
    "            for x in x_counts:\n",
    "                probabilities[x] = {\"probability\":(x_counts[x][\"count\"] + int(model==\"laplace\")) / (previous[x[1:]][\"count\"] + V)}\n",
    "        else:\n",
    "            N = len([w for s in corpus for w in s])\n",
    "            for x in x_counts:\n",
    "                probabilities[x] = {\"probability\":(x_counts[x][\"count\"] + int(model==\"laplace\")) / (N + V)}\n",
    "\n",
    "        self.probabilities = probabilities\n",
    "        self.model = model\n",
    "\n",
    "    def GetProbability(self, forX, givenY=tuple()):\n",
    "        # Add input validation\n",
    "        sequence =  givenY + tuple(forX)\n",
    "\n",
    "        if sequence in self.probabilities:\n",
    "            return self.probabilities[sequence][\"probability\"]\n",
    "        else:\n",
    "            return 0\n",
    "\n",
    "\n",
    "#http://pages.di.unipi.it/pibiri/papers/NGrams18.pdf\n",
    "\n",
    "corpus = Corpus(directory=\"Test Corpus/\")\n",
    "vanilla = corpus.Model(n=3)\n",
    "laplace = corpus.Model(model=\"laplace\")\n",
    "\n",
    "y3 = tuple(['a', 'b'])\n",
    "y2 = tuple(['b'])\n",
    "print(corpus.Model(n=3, model=\"vanilla\").GetProbability('c', y3))\n",
    "print(corpus.Model(n=2, model=\"vanilla\").GetProbability('c', y2))\n",
    "print(corpus.Model(n=1, model=\"vanilla\").GetProbability('c'))\n",
    "print(\"**\")\n",
    "\n",
    "i = tuple(['a', 'b', 'c'])\n",
    "print(corpus.LinearInterpolation(i, model=\"vanilla\"))"
   ]
  }
 ],
 "metadata": {
  "kernelspec": {
   "display_name": "Python 3",
   "language": "python",
   "name": "python3"
  },
  "language_info": {
   "codemirror_mode": {
    "name": "ipython",
    "version": 3
   },
   "file_extension": ".py",
   "mimetype": "text/x-python",
   "name": "python",
   "nbconvert_exporter": "python",
   "pygments_lexer": "ipython3",
   "version": "3.7.1"
  }
 },
 "nbformat": 4,
 "nbformat_minor": 1
}